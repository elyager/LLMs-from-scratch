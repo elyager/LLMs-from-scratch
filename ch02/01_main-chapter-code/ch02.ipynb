{
  "cells": [
    {
      "cell_type": "markdown",
      "id": "d95f841a-63c9-41d4-aea1-496b3d2024dd",
      "metadata": {
        "id": "d95f841a-63c9-41d4-aea1-496b3d2024dd"
      },
      "source": [
        "<table style=\"width:100%\">\n",
        "<tr>\n",
        "<td style=\"vertical-align:middle; text-align:left;\">\n",
        "<font size=\"2\">\n",
        "Supplementary code for the <a href=\"http://mng.bz/orYv\">Build a Large Language Model From Scratch</a> book by <a href=\"https://sebastianraschka.com\">Sebastian Raschka</a><br>\n",
        "<br>Code repository: <a href=\"https://github.com/rasbt/LLMs-from-scratch\">https://github.com/rasbt/LLMs-from-scratch</a>\n",
        "</font>\n",
        "</td>\n",
        "<td style=\"vertical-align:middle; text-align:left;\">\n",
        "<a href=\"http://mng.bz/orYv\"><img src=\"https://sebastianraschka.com/images/LLMs-from-scratch-images/cover-small.webp\" width=\"100px\"></a>\n",
        "</td>\n",
        "</tr>\n",
        "</table>\n"
      ]
    },
    {
      "cell_type": "markdown",
      "id": "25aa40e3-5109-433f-9153-f5770531fe94",
      "metadata": {
        "id": "25aa40e3-5109-433f-9153-f5770531fe94"
      },
      "source": [
        "# Chapter 2: Working with Text"
      ]
    },
    {
      "cell_type": "markdown",
      "id": "76d5d2c0-cba8-404e-9bf3-71a218cae3cf",
      "metadata": {
        "id": "76d5d2c0-cba8-404e-9bf3-71a218cae3cf"
      },
      "source": [
        "Packages that are being used in this notebook:"
      ]
    },
    {
      "cell_type": "code",
      "source": [
        "pip install torch"
      ],
      "metadata": {
        "colab": {
          "base_uri": "https://localhost:8080/"
        },
        "id": "3s1wWOyZZWK3",
        "outputId": "4b7c1f00-6d30-4ce9-f3d4-ad4fb14b270a"
      },
      "id": "3s1wWOyZZWK3",
      "execution_count": 6,
      "outputs": [
        {
          "output_type": "stream",
          "name": "stdout",
          "text": [
            "Requirement already satisfied: torch in /usr/local/lib/python3.11/dist-packages (2.5.1+cu124)\n",
            "Requirement already satisfied: filelock in /usr/local/lib/python3.11/dist-packages (from torch) (3.17.0)\n",
            "Requirement already satisfied: typing-extensions>=4.8.0 in /usr/local/lib/python3.11/dist-packages (from torch) (4.12.2)\n",
            "Requirement already satisfied: networkx in /usr/local/lib/python3.11/dist-packages (from torch) (3.4.2)\n",
            "Requirement already satisfied: jinja2 in /usr/local/lib/python3.11/dist-packages (from torch) (3.1.5)\n",
            "Requirement already satisfied: fsspec in /usr/local/lib/python3.11/dist-packages (from torch) (2024.10.0)\n",
            "Collecting nvidia-cuda-nvrtc-cu12==12.4.127 (from torch)\n",
            "  Downloading nvidia_cuda_nvrtc_cu12-12.4.127-py3-none-manylinux2014_x86_64.whl.metadata (1.5 kB)\n",
            "Collecting nvidia-cuda-runtime-cu12==12.4.127 (from torch)\n",
            "  Downloading nvidia_cuda_runtime_cu12-12.4.127-py3-none-manylinux2014_x86_64.whl.metadata (1.5 kB)\n",
            "Collecting nvidia-cuda-cupti-cu12==12.4.127 (from torch)\n",
            "  Downloading nvidia_cuda_cupti_cu12-12.4.127-py3-none-manylinux2014_x86_64.whl.metadata (1.6 kB)\n",
            "Collecting nvidia-cudnn-cu12==9.1.0.70 (from torch)\n",
            "  Downloading nvidia_cudnn_cu12-9.1.0.70-py3-none-manylinux2014_x86_64.whl.metadata (1.6 kB)\n",
            "Collecting nvidia-cublas-cu12==12.4.5.8 (from torch)\n",
            "  Downloading nvidia_cublas_cu12-12.4.5.8-py3-none-manylinux2014_x86_64.whl.metadata (1.5 kB)\n",
            "Collecting nvidia-cufft-cu12==11.2.1.3 (from torch)\n",
            "  Downloading nvidia_cufft_cu12-11.2.1.3-py3-none-manylinux2014_x86_64.whl.metadata (1.5 kB)\n",
            "Collecting nvidia-curand-cu12==10.3.5.147 (from torch)\n",
            "  Downloading nvidia_curand_cu12-10.3.5.147-py3-none-manylinux2014_x86_64.whl.metadata (1.5 kB)\n",
            "Collecting nvidia-cusolver-cu12==11.6.1.9 (from torch)\n",
            "  Downloading nvidia_cusolver_cu12-11.6.1.9-py3-none-manylinux2014_x86_64.whl.metadata (1.6 kB)\n",
            "Collecting nvidia-cusparse-cu12==12.3.1.170 (from torch)\n",
            "  Downloading nvidia_cusparse_cu12-12.3.1.170-py3-none-manylinux2014_x86_64.whl.metadata (1.6 kB)\n",
            "Requirement already satisfied: nvidia-nccl-cu12==2.21.5 in /usr/local/lib/python3.11/dist-packages (from torch) (2.21.5)\n",
            "Requirement already satisfied: nvidia-nvtx-cu12==12.4.127 in /usr/local/lib/python3.11/dist-packages (from torch) (12.4.127)\n",
            "Collecting nvidia-nvjitlink-cu12==12.4.127 (from torch)\n",
            "  Downloading nvidia_nvjitlink_cu12-12.4.127-py3-none-manylinux2014_x86_64.whl.metadata (1.5 kB)\n",
            "Requirement already satisfied: triton==3.1.0 in /usr/local/lib/python3.11/dist-packages (from torch) (3.1.0)\n",
            "Requirement already satisfied: sympy==1.13.1 in /usr/local/lib/python3.11/dist-packages (from torch) (1.13.1)\n",
            "Requirement already satisfied: mpmath<1.4,>=1.1.0 in /usr/local/lib/python3.11/dist-packages (from sympy==1.13.1->torch) (1.3.0)\n",
            "Requirement already satisfied: MarkupSafe>=2.0 in /usr/local/lib/python3.11/dist-packages (from jinja2->torch) (3.0.2)\n",
            "Downloading nvidia_cublas_cu12-12.4.5.8-py3-none-manylinux2014_x86_64.whl (363.4 MB)\n",
            "\u001b[2K   \u001b[90m━━━━━━━━━━━━━━━━━━━━━━━━━━━━━━━━━━━━━━━━\u001b[0m \u001b[32m363.4/363.4 MB\u001b[0m \u001b[31m1.3 MB/s\u001b[0m eta \u001b[36m0:00:00\u001b[0m\n",
            "\u001b[?25hDownloading nvidia_cuda_cupti_cu12-12.4.127-py3-none-manylinux2014_x86_64.whl (13.8 MB)\n",
            "\u001b[2K   \u001b[90m━━━━━━━━━━━━━━━━━━━━━━━━━━━━━━━━━━━━━━━━\u001b[0m \u001b[32m13.8/13.8 MB\u001b[0m \u001b[31m96.3 MB/s\u001b[0m eta \u001b[36m0:00:00\u001b[0m\n",
            "\u001b[?25hDownloading nvidia_cuda_nvrtc_cu12-12.4.127-py3-none-manylinux2014_x86_64.whl (24.6 MB)\n",
            "\u001b[2K   \u001b[90m━━━━━━━━━━━━━━━━━━━━━━━━━━━━━━━━━━━━━━━━\u001b[0m \u001b[32m24.6/24.6 MB\u001b[0m \u001b[31m83.6 MB/s\u001b[0m eta \u001b[36m0:00:00\u001b[0m\n",
            "\u001b[?25hDownloading nvidia_cuda_runtime_cu12-12.4.127-py3-none-manylinux2014_x86_64.whl (883 kB)\n",
            "\u001b[2K   \u001b[90m━━━━━━━━━━━━━━━━━━━━━━━━━━━━━━━━━━━━━━━━\u001b[0m \u001b[32m883.7/883.7 kB\u001b[0m \u001b[31m50.8 MB/s\u001b[0m eta \u001b[36m0:00:00\u001b[0m\n",
            "\u001b[?25hDownloading nvidia_cudnn_cu12-9.1.0.70-py3-none-manylinux2014_x86_64.whl (664.8 MB)\n",
            "\u001b[2K   \u001b[90m━━━━━━━━━━━━━━━━━━━━━━━━━━━━━━━━━━━━━━━━\u001b[0m \u001b[32m664.8/664.8 MB\u001b[0m \u001b[31m3.0 MB/s\u001b[0m eta \u001b[36m0:00:00\u001b[0m\n",
            "\u001b[?25hDownloading nvidia_cufft_cu12-11.2.1.3-py3-none-manylinux2014_x86_64.whl (211.5 MB)\n",
            "\u001b[2K   \u001b[90m━━━━━━━━━━━━━━━━━━━━━━━━━━━━━━━━━━━━━━━━\u001b[0m \u001b[32m211.5/211.5 MB\u001b[0m \u001b[31m5.7 MB/s\u001b[0m eta \u001b[36m0:00:00\u001b[0m\n",
            "\u001b[?25hDownloading nvidia_curand_cu12-10.3.5.147-py3-none-manylinux2014_x86_64.whl (56.3 MB)\n",
            "\u001b[2K   \u001b[90m━━━━━━━━━━━━━━━━━━━━━━━━━━━━━━━━━━━━━━━━\u001b[0m \u001b[32m56.3/56.3 MB\u001b[0m \u001b[31m12.8 MB/s\u001b[0m eta \u001b[36m0:00:00\u001b[0m\n",
            "\u001b[?25hDownloading nvidia_cusolver_cu12-11.6.1.9-py3-none-manylinux2014_x86_64.whl (127.9 MB)\n",
            "\u001b[2K   \u001b[90m━━━━━━━━━━━━━━━━━━━━━━━━━━━━━━━━━━━━━━━━\u001b[0m \u001b[32m127.9/127.9 MB\u001b[0m \u001b[31m7.4 MB/s\u001b[0m eta \u001b[36m0:00:00\u001b[0m\n",
            "\u001b[?25hDownloading nvidia_cusparse_cu12-12.3.1.170-py3-none-manylinux2014_x86_64.whl (207.5 MB)\n",
            "\u001b[2K   \u001b[90m━━━━━━━━━━━━━━━━━━━━━━━━━━━━━━━━━━━━━━━━\u001b[0m \u001b[32m207.5/207.5 MB\u001b[0m \u001b[31m5.5 MB/s\u001b[0m eta \u001b[36m0:00:00\u001b[0m\n",
            "\u001b[?25hDownloading nvidia_nvjitlink_cu12-12.4.127-py3-none-manylinux2014_x86_64.whl (21.1 MB)\n",
            "\u001b[2K   \u001b[90m━━━━━━━━━━━━━━━━━━━━━━━━━━━━━━━━━━━━━━━━\u001b[0m \u001b[32m21.1/21.1 MB\u001b[0m \u001b[31m65.5 MB/s\u001b[0m eta \u001b[36m0:00:00\u001b[0m\n",
            "\u001b[?25hInstalling collected packages: nvidia-nvjitlink-cu12, nvidia-curand-cu12, nvidia-cufft-cu12, nvidia-cuda-runtime-cu12, nvidia-cuda-nvrtc-cu12, nvidia-cuda-cupti-cu12, nvidia-cublas-cu12, nvidia-cusparse-cu12, nvidia-cudnn-cu12, nvidia-cusolver-cu12\n",
            "  Attempting uninstall: nvidia-nvjitlink-cu12\n",
            "    Found existing installation: nvidia-nvjitlink-cu12 12.5.82\n",
            "    Uninstalling nvidia-nvjitlink-cu12-12.5.82:\n",
            "      Successfully uninstalled nvidia-nvjitlink-cu12-12.5.82\n",
            "  Attempting uninstall: nvidia-curand-cu12\n",
            "    Found existing installation: nvidia-curand-cu12 10.3.6.82\n",
            "    Uninstalling nvidia-curand-cu12-10.3.6.82:\n",
            "      Successfully uninstalled nvidia-curand-cu12-10.3.6.82\n",
            "  Attempting uninstall: nvidia-cufft-cu12\n",
            "    Found existing installation: nvidia-cufft-cu12 11.2.3.61\n",
            "    Uninstalling nvidia-cufft-cu12-11.2.3.61:\n",
            "      Successfully uninstalled nvidia-cufft-cu12-11.2.3.61\n",
            "  Attempting uninstall: nvidia-cuda-runtime-cu12\n",
            "    Found existing installation: nvidia-cuda-runtime-cu12 12.5.82\n",
            "    Uninstalling nvidia-cuda-runtime-cu12-12.5.82:\n",
            "      Successfully uninstalled nvidia-cuda-runtime-cu12-12.5.82\n",
            "  Attempting uninstall: nvidia-cuda-nvrtc-cu12\n",
            "    Found existing installation: nvidia-cuda-nvrtc-cu12 12.5.82\n",
            "    Uninstalling nvidia-cuda-nvrtc-cu12-12.5.82:\n",
            "      Successfully uninstalled nvidia-cuda-nvrtc-cu12-12.5.82\n",
            "  Attempting uninstall: nvidia-cuda-cupti-cu12\n",
            "    Found existing installation: nvidia-cuda-cupti-cu12 12.5.82\n",
            "    Uninstalling nvidia-cuda-cupti-cu12-12.5.82:\n",
            "      Successfully uninstalled nvidia-cuda-cupti-cu12-12.5.82\n",
            "  Attempting uninstall: nvidia-cublas-cu12\n",
            "    Found existing installation: nvidia-cublas-cu12 12.5.3.2\n",
            "    Uninstalling nvidia-cublas-cu12-12.5.3.2:\n",
            "      Successfully uninstalled nvidia-cublas-cu12-12.5.3.2\n",
            "  Attempting uninstall: nvidia-cusparse-cu12\n",
            "    Found existing installation: nvidia-cusparse-cu12 12.5.1.3\n",
            "    Uninstalling nvidia-cusparse-cu12-12.5.1.3:\n",
            "      Successfully uninstalled nvidia-cusparse-cu12-12.5.1.3\n",
            "  Attempting uninstall: nvidia-cudnn-cu12\n",
            "    Found existing installation: nvidia-cudnn-cu12 9.3.0.75\n",
            "    Uninstalling nvidia-cudnn-cu12-9.3.0.75:\n",
            "      Successfully uninstalled nvidia-cudnn-cu12-9.3.0.75\n",
            "  Attempting uninstall: nvidia-cusolver-cu12\n",
            "    Found existing installation: nvidia-cusolver-cu12 11.6.3.83\n",
            "    Uninstalling nvidia-cusolver-cu12-11.6.3.83:\n",
            "      Successfully uninstalled nvidia-cusolver-cu12-11.6.3.83\n",
            "Successfully installed nvidia-cublas-cu12-12.4.5.8 nvidia-cuda-cupti-cu12-12.4.127 nvidia-cuda-nvrtc-cu12-12.4.127 nvidia-cuda-runtime-cu12-12.4.127 nvidia-cudnn-cu12-9.1.0.70 nvidia-cufft-cu12-11.2.1.3 nvidia-curand-cu12-10.3.5.147 nvidia-cusolver-cu12-11.6.1.9 nvidia-cusparse-cu12-12.3.1.170 nvidia-nvjitlink-cu12-12.4.127\n"
          ]
        }
      ]
    },
    {
      "cell_type": "code",
      "source": [
        "pip install tiktoken"
      ],
      "metadata": {
        "colab": {
          "base_uri": "https://localhost:8080/"
        },
        "id": "4We08TnhZLgm",
        "outputId": "fbbc9f3c-f1dd-4673-f28a-499bbc940a47"
      },
      "id": "4We08TnhZLgm",
      "execution_count": 5,
      "outputs": [
        {
          "output_type": "stream",
          "name": "stdout",
          "text": [
            "Requirement already satisfied: tiktoken in /usr/local/lib/python3.11/dist-packages (0.9.0)\n",
            "Requirement already satisfied: regex>=2022.1.18 in /usr/local/lib/python3.11/dist-packages (from tiktoken) (2024.11.6)\n",
            "Requirement already satisfied: requests>=2.26.0 in /usr/local/lib/python3.11/dist-packages (from tiktoken) (2.32.3)\n",
            "Requirement already satisfied: charset-normalizer<4,>=2 in /usr/local/lib/python3.11/dist-packages (from requests>=2.26.0->tiktoken) (3.4.1)\n",
            "Requirement already satisfied: idna<4,>=2.5 in /usr/local/lib/python3.11/dist-packages (from requests>=2.26.0->tiktoken) (3.10)\n",
            "Requirement already satisfied: urllib3<3,>=1.21.1 in /usr/local/lib/python3.11/dist-packages (from requests>=2.26.0->tiktoken) (2.3.0)\n",
            "Requirement already satisfied: certifi>=2017.4.17 in /usr/local/lib/python3.11/dist-packages (from requests>=2.26.0->tiktoken) (2025.1.31)\n"
          ]
        }
      ]
    },
    {
      "cell_type": "code",
      "execution_count": 8,
      "id": "4d1305cf-12d5-46fe-a2c9-36fb71c5b3d3",
      "metadata": {
        "colab": {
          "base_uri": "https://localhost:8080/"
        },
        "id": "4d1305cf-12d5-46fe-a2c9-36fb71c5b3d3",
        "outputId": "f7ea46c6-293d-4585-f2c5-8418b88886d2"
      },
      "outputs": [
        {
          "output_type": "stream",
          "name": "stdout",
          "text": [
            "torch version: 2.5.1+cu124\n",
            "tiktoken version: 0.9.0\n"
          ]
        }
      ],
      "source": [
        "from importlib.metadata import version\n",
        "\n",
        "print(\"torch version:\", version(\"torch\"))\n",
        "print(\"tiktoken version:\", version(\"tiktoken\"))"
      ]
    },
    {
      "cell_type": "markdown",
      "id": "5a42fbfd-e3c2-43c2-bc12-f5f870a0b10a",
      "metadata": {
        "id": "5a42fbfd-e3c2-43c2-bc12-f5f870a0b10a"
      },
      "source": [
        "- This chapter covers data preparation and sampling to get input data \"ready\" for the LLM"
      ]
    },
    {
      "cell_type": "markdown",
      "id": "628b2922-594d-4ff9-bd82-04f1ebdf41f5",
      "metadata": {
        "id": "628b2922-594d-4ff9-bd82-04f1ebdf41f5"
      },
      "source": [
        "<img src=\"https://sebastianraschka.com/images/LLMs-from-scratch-images/ch02_compressed/01.webp?timestamp=1\" width=\"500px\">"
      ]
    },
    {
      "cell_type": "markdown",
      "id": "2417139b-2357-44d2-bd67-23f5d7f52ae7",
      "metadata": {
        "id": "2417139b-2357-44d2-bd67-23f5d7f52ae7"
      },
      "source": [
        "## 2.1 Understanding word embeddings"
      ]
    },
    {
      "cell_type": "markdown",
      "id": "0b6816ae-e927-43a9-b4dd-e47a9b0e1cf6",
      "metadata": {
        "id": "0b6816ae-e927-43a9-b4dd-e47a9b0e1cf6"
      },
      "source": [
        "- No code in this section"
      ]
    },
    {
      "cell_type": "markdown",
      "id": "4f69dab7-a433-427a-9e5b-b981062d6296",
      "metadata": {
        "id": "4f69dab7-a433-427a-9e5b-b981062d6296"
      },
      "source": [
        "- There are many forms of embeddings; we focus on text embeddings in this book"
      ]
    },
    {
      "cell_type": "markdown",
      "id": "ba08d16f-f237-4166-bf89-0e9fe703e7b4",
      "metadata": {
        "id": "ba08d16f-f237-4166-bf89-0e9fe703e7b4"
      },
      "source": [
        "<img src=\"https://sebastianraschka.com/images/LLMs-from-scratch-images/ch02_compressed/02.webp\" width=\"500px\">"
      ]
    },
    {
      "cell_type": "markdown",
      "id": "288c4faf-b93a-4616-9276-7a4aa4b5e9ba",
      "metadata": {
        "id": "288c4faf-b93a-4616-9276-7a4aa4b5e9ba"
      },
      "source": [
        "- LLMs work with embeddings in high-dimensional spaces (i.e., thousands of dimensions)\n",
        "- Since we can't visualize such high-dimensional spaces (we humans think in 1, 2, or 3 dimensions), the figure below illustrates a 2-dimensional embedding space"
      ]
    },
    {
      "cell_type": "markdown",
      "id": "d6b80160-1f10-4aad-a85e-9c79444de9e6",
      "metadata": {
        "id": "d6b80160-1f10-4aad-a85e-9c79444de9e6"
      },
      "source": [
        "<img src=\"https://sebastianraschka.com/images/LLMs-from-scratch-images/ch02_compressed/03.webp\" width=\"300px\">"
      ]
    },
    {
      "cell_type": "markdown",
      "id": "eddbb984-8d23-40c5-bbfa-c3c379e7eec3",
      "metadata": {
        "id": "eddbb984-8d23-40c5-bbfa-c3c379e7eec3"
      },
      "source": [
        "## 2.2 Tokenizing text"
      ]
    },
    {
      "cell_type": "markdown",
      "id": "f9c90731-7dc9-4cd3-8c4a-488e33b48e80",
      "metadata": {
        "id": "f9c90731-7dc9-4cd3-8c4a-488e33b48e80"
      },
      "source": [
        "- In this section, we tokenize text, which means breaking text into smaller units, such as individual words and punctuation characters"
      ]
    },
    {
      "cell_type": "markdown",
      "id": "09872fdb-9d4e-40c4-949d-52a01a43ec4b",
      "metadata": {
        "id": "09872fdb-9d4e-40c4-949d-52a01a43ec4b"
      },
      "source": [
        "<img src=\"https://sebastianraschka.com/images/LLMs-from-scratch-images/ch02_compressed/04.webp\" width=\"300px\">"
      ]
    },
    {
      "cell_type": "markdown",
      "id": "8cceaa18-833d-46b6-b211-b20c53902805",
      "metadata": {
        "id": "8cceaa18-833d-46b6-b211-b20c53902805"
      },
      "source": [
        "- Load raw text we want to work with\n",
        "- [The Verdict by Edith Wharton](https://en.wikisource.org/wiki/The_Verdict) is a public domain short story"
      ]
    },
    {
      "cell_type": "code",
      "execution_count": 9,
      "id": "40f9d9b1-6d32-485a-825a-a95392a86d79",
      "metadata": {
        "id": "40f9d9b1-6d32-485a-825a-a95392a86d79"
      },
      "outputs": [],
      "source": [
        "import os\n",
        "import urllib.request\n",
        "\n",
        "if not os.path.exists(\"the-verdict.txt\"):\n",
        "    url = (\"https://raw.githubusercontent.com/rasbt/\"\n",
        "           \"LLMs-from-scratch/main/ch02/01_main-chapter-code/\"\n",
        "           \"the-verdict.txt\")\n",
        "    file_path = \"the-verdict.txt\"\n",
        "    urllib.request.urlretrieve(url, file_path)"
      ]
    },
    {
      "cell_type": "markdown",
      "id": "56488f2c-a2b8-49f1-aaeb-461faad08dce",
      "metadata": {
        "id": "56488f2c-a2b8-49f1-aaeb-461faad08dce"
      },
      "source": [
        "- (If you encounter an `ssl.SSLCertVerificationError` when executing the previous code cell, it might be due to using an outdated Python version; you can find [more information here on GitHub](https://github.com/rasbt/LLMs-from-scratch/pull/403))"
      ]
    },
    {
      "cell_type": "code",
      "execution_count": 10,
      "id": "8a769e87-470a-48b9-8bdb-12841b416198",
      "metadata": {
        "colab": {
          "base_uri": "https://localhost:8080/"
        },
        "id": "8a769e87-470a-48b9-8bdb-12841b416198",
        "outputId": "cb4faa8a-d1ca-4a0f-832e-38c4e6bdf8e3"
      },
      "outputs": [
        {
          "output_type": "stream",
          "name": "stdout",
          "text": [
            "Total number of character: 20479\n",
            "I HAD always thought Jack Gisburn rather a cheap genius--though a good fellow enough--so it was no \n"
          ]
        }
      ],
      "source": [
        "with open(\"the-verdict.txt\", \"r\", encoding=\"utf-8\") as f:\n",
        "    raw_text = f.read()\n",
        "\n",
        "print(\"Total number of character:\", len(raw_text))\n",
        "print(raw_text[:99])"
      ]
    },
    {
      "cell_type": "markdown",
      "id": "9b971a46-ac03-4368-88ae-3f20279e8f4e",
      "metadata": {
        "id": "9b971a46-ac03-4368-88ae-3f20279e8f4e"
      },
      "source": [
        "- The goal is to tokenize and embed this text for an LLM\n",
        "- Let's develop a simple tokenizer based on some simple sample text that we can then later apply to the text above\n",
        "- The following regular expression will split on whitespaces"
      ]
    },
    {
      "cell_type": "code",
      "execution_count": 11,
      "id": "737dd5b0-9dbb-4a97-9ae4-3482c8c04be7",
      "metadata": {
        "colab": {
          "base_uri": "https://localhost:8080/"
        },
        "id": "737dd5b0-9dbb-4a97-9ae4-3482c8c04be7",
        "outputId": "3c665155-0116-4000-e23d-ec3a2652d910"
      },
      "outputs": [
        {
          "output_type": "stream",
          "name": "stdout",
          "text": [
            "['Hello,', ' ', 'world.', ' ', 'This,', ' ', 'is', ' ', 'a', ' ', 'test.']\n"
          ]
        }
      ],
      "source": [
        "import re\n",
        "\n",
        "text = \"Hello, world. This, is a test.\"\n",
        "result = re.split(r'(\\s)', text)\n",
        "\n",
        "print(result)"
      ]
    },
    {
      "cell_type": "markdown",
      "id": "a8c40c18-a9d5-4703-bf71-8261dbcc5ee3",
      "metadata": {
        "id": "a8c40c18-a9d5-4703-bf71-8261dbcc5ee3"
      },
      "source": [
        "- We don't only want to split on whitespaces but also commas and periods, so let's modify the regular expression to do that as well"
      ]
    },
    {
      "cell_type": "code",
      "execution_count": 12,
      "id": "ea02489d-01f9-4247-b7dd-a0d63f62ef07",
      "metadata": {
        "colab": {
          "base_uri": "https://localhost:8080/"
        },
        "id": "ea02489d-01f9-4247-b7dd-a0d63f62ef07",
        "outputId": "ee9c2371-00c2-4aae-f4a7-1d0664a46eb2"
      },
      "outputs": [
        {
          "output_type": "stream",
          "name": "stdout",
          "text": [
            "['Hello', ',', '', ' ', 'world', '.', '', ' ', 'This', ',', '', ' ', 'is', ' ', 'a', ' ', 'test', '.', '']\n"
          ]
        }
      ],
      "source": [
        "result = re.split(r'([,.]|\\s)', text)\n",
        "\n",
        "print(result)"
      ]
    },
    {
      "cell_type": "markdown",
      "id": "461d0c86-e3af-4f87-8fae-594a9ca9b6ad",
      "metadata": {
        "id": "461d0c86-e3af-4f87-8fae-594a9ca9b6ad"
      },
      "source": [
        "- As we can see, this creates empty strings, let's remove them"
      ]
    },
    {
      "cell_type": "code",
      "execution_count": 13,
      "id": "4d8a6fb7-2e62-4a12-ad06-ccb04f25fed7",
      "metadata": {
        "colab": {
          "base_uri": "https://localhost:8080/"
        },
        "id": "4d8a6fb7-2e62-4a12-ad06-ccb04f25fed7",
        "outputId": "a2c028f2-c778-4415-fc15-f508c3910463"
      },
      "outputs": [
        {
          "output_type": "stream",
          "name": "stdout",
          "text": [
            "['Hello', ',', 'world', '.', 'This', ',', 'is', 'a', 'test', '.']\n"
          ]
        }
      ],
      "source": [
        "# Strip whitespace from each item and then filter out any empty strings.\n",
        "result = [item for item in result if item.strip()]\n",
        "print(result)"
      ]
    },
    {
      "cell_type": "markdown",
      "id": "250e8694-181e-496f-895d-7cb7d92b5562",
      "metadata": {
        "id": "250e8694-181e-496f-895d-7cb7d92b5562"
      },
      "source": [
        "- This looks pretty good, but let's also handle other types of punctuation, such as periods, question marks, and so on"
      ]
    },
    {
      "cell_type": "code",
      "execution_count": 14,
      "id": "ed3a9467-04b4-49d9-96c5-b8042bcf8374",
      "metadata": {
        "colab": {
          "base_uri": "https://localhost:8080/"
        },
        "id": "ed3a9467-04b4-49d9-96c5-b8042bcf8374",
        "outputId": "2e7777c1-1c39-419d-eae4-045bef77dafb"
      },
      "outputs": [
        {
          "output_type": "stream",
          "name": "stdout",
          "text": [
            "['Hello', ',', 'world', '.', 'Is', 'this', '--', 'a', 'test', '?']\n"
          ]
        }
      ],
      "source": [
        "text = \"Hello, world. Is this-- a test?\"\n",
        "\n",
        "result = re.split(r'([,.:;?_!\"()\\']|--|\\s)', text)\n",
        "result = [item.strip() for item in result if item.strip()]\n",
        "print(result)"
      ]
    },
    {
      "cell_type": "markdown",
      "id": "5bbea70b-c030-45d9-b09d-4318164c0bb4",
      "metadata": {
        "id": "5bbea70b-c030-45d9-b09d-4318164c0bb4"
      },
      "source": [
        "- This is pretty good, and we are now ready to apply this tokenization to the raw text"
      ]
    },
    {
      "cell_type": "markdown",
      "id": "6cbe9330-b587-4262-be9f-497a84ec0e8a",
      "metadata": {
        "id": "6cbe9330-b587-4262-be9f-497a84ec0e8a"
      },
      "source": [
        "<img src=\"https://sebastianraschka.com/images/LLMs-from-scratch-images/ch02_compressed/05.webp\" width=\"350px\">"
      ]
    },
    {
      "cell_type": "code",
      "execution_count": 15,
      "id": "8c567caa-8ff5-49a8-a5cc-d365b0a78a99",
      "metadata": {
        "colab": {
          "base_uri": "https://localhost:8080/"
        },
        "id": "8c567caa-8ff5-49a8-a5cc-d365b0a78a99",
        "outputId": "f24bcb59-5777-42aa-f495-dbe274f87fd3"
      },
      "outputs": [
        {
          "output_type": "stream",
          "name": "stdout",
          "text": [
            "['I', 'HAD', 'always', 'thought', 'Jack', 'Gisburn', 'rather', 'a', 'cheap', 'genius', '--', 'though', 'a', 'good', 'fellow', 'enough', '--', 'so', 'it', 'was', 'no', 'great', 'surprise', 'to', 'me', 'to', 'hear', 'that', ',', 'in']\n"
          ]
        }
      ],
      "source": [
        "preprocessed = re.split(r'([,.:;?_!\"()\\']|--|\\s)', raw_text)\n",
        "preprocessed = [item.strip() for item in preprocessed if item.strip()]\n",
        "print(preprocessed[:30])"
      ]
    },
    {
      "cell_type": "markdown",
      "id": "e2a19e1a-5105-4ddb-812a-b7d3117eab95",
      "metadata": {
        "id": "e2a19e1a-5105-4ddb-812a-b7d3117eab95"
      },
      "source": [
        "- Let's calculate the total number of tokens"
      ]
    },
    {
      "cell_type": "code",
      "execution_count": 16,
      "id": "35db7b5e-510b-4c45-995f-f5ad64a8e19c",
      "metadata": {
        "colab": {
          "base_uri": "https://localhost:8080/"
        },
        "id": "35db7b5e-510b-4c45-995f-f5ad64a8e19c",
        "outputId": "026e63d2-dcae-4451-8f2d-5ccd440bd45d"
      },
      "outputs": [
        {
          "output_type": "stream",
          "name": "stdout",
          "text": [
            "4690\n"
          ]
        }
      ],
      "source": [
        "print(len(preprocessed))"
      ]
    },
    {
      "cell_type": "markdown",
      "id": "0b5ce8fe-3a07-4f2a-90f1-a0321ce3a231",
      "metadata": {
        "id": "0b5ce8fe-3a07-4f2a-90f1-a0321ce3a231"
      },
      "source": [
        "## 2.3 Converting tokens into token IDs"
      ]
    },
    {
      "cell_type": "markdown",
      "id": "a5204973-f414-4c0d-87b0-cfec1f06e6ff",
      "metadata": {
        "id": "a5204973-f414-4c0d-87b0-cfec1f06e6ff"
      },
      "source": [
        "- Next, we convert the text tokens into token IDs that we can process via embedding layers later"
      ]
    },
    {
      "cell_type": "markdown",
      "id": "177b041d-f739-43b8-bd81-0443ae3a7f8d",
      "metadata": {
        "id": "177b041d-f739-43b8-bd81-0443ae3a7f8d"
      },
      "source": [
        "<img src=\"https://sebastianraschka.com/images/LLMs-from-scratch-images/ch02_compressed/06.webp\" width=\"500px\">"
      ]
    },
    {
      "cell_type": "markdown",
      "id": "b5973794-7002-4202-8b12-0900cd779720",
      "metadata": {
        "id": "b5973794-7002-4202-8b12-0900cd779720"
      },
      "source": [
        "- From these tokens, we can now build a vocabulary that consists of all the unique tokens"
      ]
    },
    {
      "cell_type": "code",
      "execution_count": 17,
      "id": "7fdf0533-5ab6-42a5-83fa-a3b045de6396",
      "metadata": {
        "colab": {
          "base_uri": "https://localhost:8080/"
        },
        "id": "7fdf0533-5ab6-42a5-83fa-a3b045de6396",
        "outputId": "debbe70a-e984-47ac-df83-f7188c564663"
      },
      "outputs": [
        {
          "output_type": "stream",
          "name": "stdout",
          "text": [
            "1130\n"
          ]
        }
      ],
      "source": [
        "all_words = sorted(set(preprocessed))\n",
        "vocab_size = len(all_words)\n",
        "\n",
        "print(vocab_size)"
      ]
    },
    {
      "cell_type": "code",
      "execution_count": 18,
      "id": "77d00d96-881f-4691-bb03-84fec2a75a26",
      "metadata": {
        "id": "77d00d96-881f-4691-bb03-84fec2a75a26"
      },
      "outputs": [],
      "source": [
        "vocab = {token:integer for integer,token in enumerate(all_words)}"
      ]
    },
    {
      "cell_type": "markdown",
      "id": "75bd1f81-3a8f-4dd9-9dd6-e75f32dacbe3",
      "metadata": {
        "id": "75bd1f81-3a8f-4dd9-9dd6-e75f32dacbe3"
      },
      "source": [
        "- Below are the first 50 entries in this vocabulary:"
      ]
    },
    {
      "cell_type": "code",
      "execution_count": 19,
      "id": "e1c5de4a-aa4e-4aec-b532-10bb364039d6",
      "metadata": {
        "colab": {
          "base_uri": "https://localhost:8080/"
        },
        "id": "e1c5de4a-aa4e-4aec-b532-10bb364039d6",
        "outputId": "132fa33c-90db-44be-c259-3adc3841d3cc"
      },
      "outputs": [
        {
          "output_type": "stream",
          "name": "stdout",
          "text": [
            "('!', 0)\n",
            "('\"', 1)\n",
            "(\"'\", 2)\n",
            "('(', 3)\n",
            "(')', 4)\n",
            "(',', 5)\n",
            "('--', 6)\n",
            "('.', 7)\n",
            "(':', 8)\n",
            "(';', 9)\n",
            "('?', 10)\n",
            "('A', 11)\n",
            "('Ah', 12)\n",
            "('Among', 13)\n",
            "('And', 14)\n",
            "('Are', 15)\n",
            "('Arrt', 16)\n",
            "('As', 17)\n",
            "('At', 18)\n",
            "('Be', 19)\n",
            "('Begin', 20)\n",
            "('Burlington', 21)\n",
            "('But', 22)\n",
            "('By', 23)\n",
            "('Carlo', 24)\n",
            "('Chicago', 25)\n",
            "('Claude', 26)\n",
            "('Come', 27)\n",
            "('Croft', 28)\n",
            "('Destroyed', 29)\n",
            "('Devonshire', 30)\n",
            "('Don', 31)\n",
            "('Dubarry', 32)\n",
            "('Emperors', 33)\n",
            "('Florence', 34)\n",
            "('For', 35)\n",
            "('Gallery', 36)\n",
            "('Gideon', 37)\n",
            "('Gisburn', 38)\n",
            "('Gisburns', 39)\n",
            "('Grafton', 40)\n",
            "('Greek', 41)\n",
            "('Grindle', 42)\n",
            "('Grindles', 43)\n",
            "('HAD', 44)\n",
            "('Had', 45)\n",
            "('Hang', 46)\n",
            "('Has', 47)\n",
            "('He', 48)\n",
            "('Her', 49)\n",
            "('Hermia', 50)\n"
          ]
        }
      ],
      "source": [
        "for i, item in enumerate(vocab.items()):\n",
        "    print(item)\n",
        "    if i >= 50:\n",
        "        break"
      ]
    },
    {
      "cell_type": "markdown",
      "id": "3b1dc314-351b-476a-9459-0ec9ddc29b19",
      "metadata": {
        "id": "3b1dc314-351b-476a-9459-0ec9ddc29b19"
      },
      "source": [
        "- Below, we illustrate the tokenization of a short sample text using a small vocabulary:"
      ]
    },
    {
      "cell_type": "markdown",
      "id": "67407a9f-0202-4e7c-9ed7-1b3154191ebc",
      "metadata": {
        "id": "67407a9f-0202-4e7c-9ed7-1b3154191ebc"
      },
      "source": [
        "<img src=\"https://sebastianraschka.com/images/LLMs-from-scratch-images/ch02_compressed/07.webp?123\" width=\"500px\">"
      ]
    },
    {
      "cell_type": "markdown",
      "id": "4e569647-2589-4c9d-9a5c-aef1c88a0a9a",
      "metadata": {
        "id": "4e569647-2589-4c9d-9a5c-aef1c88a0a9a"
      },
      "source": [
        "- Putting it now all together into a tokenizer class"
      ]
    },
    {
      "cell_type": "code",
      "execution_count": 20,
      "id": "f531bf46-7c25-4ef8-bff8-0d27518676d5",
      "metadata": {
        "id": "f531bf46-7c25-4ef8-bff8-0d27518676d5"
      },
      "outputs": [],
      "source": [
        "class SimpleTokenizerV1:\n",
        "    def __init__(self, vocab):\n",
        "        self.str_to_int = vocab\n",
        "        self.int_to_str = {i:s for s,i in vocab.items()}\n",
        "\n",
        "    def encode(self, text):\n",
        "        preprocessed = re.split(r'([,.:;?_!\"()\\']|--|\\s)', text)\n",
        "\n",
        "        preprocessed = [\n",
        "            item.strip() for item in preprocessed if item.strip()\n",
        "        ]\n",
        "        ids = [self.str_to_int[s] for s in preprocessed]\n",
        "        return ids\n",
        "\n",
        "    def decode(self, ids):\n",
        "        text = \" \".join([self.int_to_str[i] for i in ids])\n",
        "        # Replace spaces before the specified punctuations\n",
        "        text = re.sub(r'\\s+([,.?!\"()\\'])', r'\\1', text)\n",
        "        return text"
      ]
    },
    {
      "cell_type": "markdown",
      "id": "dee7a1e5-b54f-4ca1-87ef-3d663c4ee1e7",
      "metadata": {
        "id": "dee7a1e5-b54f-4ca1-87ef-3d663c4ee1e7"
      },
      "source": [
        "- The `encode` function turns text into token IDs\n",
        "- The `decode` function turns token IDs back into text"
      ]
    },
    {
      "cell_type": "markdown",
      "id": "cc21d347-ec03-4823-b3d4-9d686e495617",
      "metadata": {
        "id": "cc21d347-ec03-4823-b3d4-9d686e495617"
      },
      "source": [
        "<img src=\"https://sebastianraschka.com/images/LLMs-from-scratch-images/ch02_compressed/08.webp?123\" width=\"500px\">"
      ]
    },
    {
      "cell_type": "markdown",
      "id": "c2950a94-6b0d-474e-8ed0-66d0c3c1a95c",
      "metadata": {
        "id": "c2950a94-6b0d-474e-8ed0-66d0c3c1a95c"
      },
      "source": [
        "- We can use the tokenizer to encode (that is, tokenize) texts into integers\n",
        "- These integers can then be embedded (later) as input of/for the LLM"
      ]
    },
    {
      "cell_type": "code",
      "execution_count": 21,
      "id": "647364ec-7995-4654-9b4a-7607ccf5f1e4",
      "metadata": {
        "colab": {
          "base_uri": "https://localhost:8080/"
        },
        "id": "647364ec-7995-4654-9b4a-7607ccf5f1e4",
        "outputId": "1a3d8b23-4f8a-490c-ef62-3c8d5455bd0e"
      },
      "outputs": [
        {
          "output_type": "stream",
          "name": "stdout",
          "text": [
            "[1, 56, 2, 850, 988, 602, 533, 746, 5, 1126, 596, 5, 1, 67, 7, 38, 851, 1108, 754, 793, 7]\n"
          ]
        }
      ],
      "source": [
        "tokenizer = SimpleTokenizerV1(vocab)\n",
        "\n",
        "text = \"\"\"\"It's the last he painted, you know,\"\n",
        "           Mrs. Gisburn said with pardonable pride.\"\"\"\n",
        "ids = tokenizer.encode(text)\n",
        "print(ids)"
      ]
    },
    {
      "cell_type": "markdown",
      "id": "3201706e-a487-4b60-b99d-5765865f29a0",
      "metadata": {
        "id": "3201706e-a487-4b60-b99d-5765865f29a0"
      },
      "source": [
        "- We can decode the integers back into text"
      ]
    },
    {
      "cell_type": "code",
      "execution_count": 22,
      "id": "01d8c8fb-432d-4a49-b332-99f23b233746",
      "metadata": {
        "colab": {
          "base_uri": "https://localhost:8080/",
          "height": 36
        },
        "id": "01d8c8fb-432d-4a49-b332-99f23b233746",
        "outputId": "f0750ea1-80b5-4bd6-f1bc-21c4842297a3"
      },
      "outputs": [
        {
          "output_type": "execute_result",
          "data": {
            "text/plain": [
              "'\" It\\' s the last he painted, you know,\" Mrs. Gisburn said with pardonable pride.'"
            ],
            "application/vnd.google.colaboratory.intrinsic+json": {
              "type": "string"
            }
          },
          "metadata": {},
          "execution_count": 22
        }
      ],
      "source": [
        "tokenizer.decode(ids)"
      ]
    },
    {
      "cell_type": "code",
      "execution_count": 23,
      "id": "54f6aa8b-9827-412e-9035-e827296ab0fe",
      "metadata": {
        "colab": {
          "base_uri": "https://localhost:8080/",
          "height": 36
        },
        "id": "54f6aa8b-9827-412e-9035-e827296ab0fe",
        "outputId": "3373fab3-d32a-4949-c85a-21d1629482f2"
      },
      "outputs": [
        {
          "output_type": "execute_result",
          "data": {
            "text/plain": [
              "'\" It\\' s the last he painted, you know,\" Mrs. Gisburn said with pardonable pride.'"
            ],
            "application/vnd.google.colaboratory.intrinsic+json": {
              "type": "string"
            }
          },
          "metadata": {},
          "execution_count": 23
        }
      ],
      "source": [
        "tokenizer.decode(tokenizer.encode(text))"
      ]
    },
    {
      "cell_type": "markdown",
      "id": "4b821ef8-4d53-43b6-a2b2-aef808c343c7",
      "metadata": {
        "id": "4b821ef8-4d53-43b6-a2b2-aef808c343c7"
      },
      "source": [
        "## 2.4 Adding special context tokens"
      ]
    },
    {
      "cell_type": "markdown",
      "id": "863d6d15-a3e2-44e0-b384-bb37f17cf443",
      "metadata": {
        "id": "863d6d15-a3e2-44e0-b384-bb37f17cf443"
      },
      "source": [
        "- It's useful to add some \"special\" tokens for unknown words and to denote the end of a text"
      ]
    },
    {
      "cell_type": "markdown",
      "id": "aa7fc96c-e1fd-44fb-b7f5-229d7c7922a4",
      "metadata": {
        "id": "aa7fc96c-e1fd-44fb-b7f5-229d7c7922a4"
      },
      "source": [
        "<img src=\"https://sebastianraschka.com/images/LLMs-from-scratch-images/ch02_compressed/09.webp?123\" width=\"500px\">"
      ]
    },
    {
      "cell_type": "markdown",
      "id": "9d709d57-2486-4152-b7f9-d3e4bd8634cd",
      "metadata": {
        "id": "9d709d57-2486-4152-b7f9-d3e4bd8634cd"
      },
      "source": [
        "- Some tokenizers use special tokens to help the LLM with additional context\n",
        "- Some of these special tokens are\n",
        "  - `[BOS]` (beginning of sequence) marks the beginning of text\n",
        "  - `[EOS]` (end of sequence) marks where the text ends (this is usually used to concatenate multiple unrelated texts, e.g., two different Wikipedia articles or two different books, and so on)\n",
        "  - `[PAD]` (padding) if we train LLMs with a batch size greater than 1 (we may include multiple texts with different lengths; with the padding token we pad the shorter texts to the longest length so that all texts have an equal length)\n",
        "- `[UNK]` to represent words that are not included in the vocabulary\n",
        "\n",
        "- Note that GPT-2 does not need any of these tokens mentioned above but only uses an `<|endoftext|>` token to reduce complexity\n",
        "- The `<|endoftext|>` is analogous to the `[EOS]` token mentioned above\n",
        "- GPT also uses the `<|endoftext|>` for padding (since we typically use a mask when training on batched inputs, we would not attend padded tokens anyways, so it does not matter what these tokens are)\n",
        "- GPT-2 does not use an `<UNK>` token for out-of-vocabulary words; instead, GPT-2 uses a byte-pair encoding (BPE) tokenizer, which breaks down words into subword units which we will discuss in a later section\n",
        "\n"
      ]
    },
    {
      "cell_type": "markdown",
      "id": "a336b43b-7173-49e7-bd80-527ad4efb271",
      "metadata": {
        "id": "a336b43b-7173-49e7-bd80-527ad4efb271"
      },
      "source": [
        "- We use the `<|endoftext|>` tokens between two independent sources of text:"
      ]
    },
    {
      "cell_type": "markdown",
      "id": "52442951-752c-4855-9752-b121a17fef55",
      "metadata": {
        "id": "52442951-752c-4855-9752-b121a17fef55"
      },
      "source": [
        "<img src=\"https://sebastianraschka.com/images/LLMs-from-scratch-images/ch02_compressed/10.webp\" width=\"500px\">"
      ]
    },
    {
      "cell_type": "markdown",
      "id": "c661a397-da06-4a86-ac27-072dbe7cb172",
      "metadata": {
        "id": "c661a397-da06-4a86-ac27-072dbe7cb172"
      },
      "source": [
        "- Let's see what happens if we tokenize the following text:"
      ]
    },
    {
      "cell_type": "code",
      "execution_count": 24,
      "id": "d5767eff-440c-4de1-9289-f789349d6b85",
      "metadata": {
        "colab": {
          "base_uri": "https://localhost:8080/",
          "height": 333
        },
        "id": "d5767eff-440c-4de1-9289-f789349d6b85",
        "outputId": "8cc5fcb2-b35e-48d8-c266-35a87c7bb5e2"
      },
      "outputs": [
        {
          "output_type": "error",
          "ename": "KeyError",
          "evalue": "'Hello'",
          "traceback": [
            "\u001b[0;31m---------------------------------------------------------------------------\u001b[0m",
            "\u001b[0;31mKeyError\u001b[0m                                  Traceback (most recent call last)",
            "\u001b[0;32m<ipython-input-24-d80f9ff7dada>\u001b[0m in \u001b[0;36m<cell line: 0>\u001b[0;34m()\u001b[0m\n\u001b[1;32m      3\u001b[0m \u001b[0mtext\u001b[0m \u001b[0;34m=\u001b[0m \u001b[0;34m\"Hello, do you like tea. Is this-- a test?\"\u001b[0m\u001b[0;34m\u001b[0m\u001b[0;34m\u001b[0m\u001b[0m\n\u001b[1;32m      4\u001b[0m \u001b[0;34m\u001b[0m\u001b[0m\n\u001b[0;32m----> 5\u001b[0;31m \u001b[0mtokenizer\u001b[0m\u001b[0;34m.\u001b[0m\u001b[0mencode\u001b[0m\u001b[0;34m(\u001b[0m\u001b[0mtext\u001b[0m\u001b[0;34m)\u001b[0m\u001b[0;34m\u001b[0m\u001b[0;34m\u001b[0m\u001b[0m\n\u001b[0m",
            "\u001b[0;32m<ipython-input-20-ba585d2f18cc>\u001b[0m in \u001b[0;36mencode\u001b[0;34m(self, text)\u001b[0m\n\u001b[1;32m     10\u001b[0m             \u001b[0mitem\u001b[0m\u001b[0;34m.\u001b[0m\u001b[0mstrip\u001b[0m\u001b[0;34m(\u001b[0m\u001b[0;34m)\u001b[0m \u001b[0;32mfor\u001b[0m \u001b[0mitem\u001b[0m \u001b[0;32min\u001b[0m \u001b[0mpreprocessed\u001b[0m \u001b[0;32mif\u001b[0m \u001b[0mitem\u001b[0m\u001b[0;34m.\u001b[0m\u001b[0mstrip\u001b[0m\u001b[0;34m(\u001b[0m\u001b[0;34m)\u001b[0m\u001b[0;34m\u001b[0m\u001b[0;34m\u001b[0m\u001b[0m\n\u001b[1;32m     11\u001b[0m         ]\n\u001b[0;32m---> 12\u001b[0;31m         \u001b[0mids\u001b[0m \u001b[0;34m=\u001b[0m \u001b[0;34m[\u001b[0m\u001b[0mself\u001b[0m\u001b[0;34m.\u001b[0m\u001b[0mstr_to_int\u001b[0m\u001b[0;34m[\u001b[0m\u001b[0ms\u001b[0m\u001b[0;34m]\u001b[0m \u001b[0;32mfor\u001b[0m \u001b[0ms\u001b[0m \u001b[0;32min\u001b[0m \u001b[0mpreprocessed\u001b[0m\u001b[0;34m]\u001b[0m\u001b[0;34m\u001b[0m\u001b[0;34m\u001b[0m\u001b[0m\n\u001b[0m\u001b[1;32m     13\u001b[0m         \u001b[0;32mreturn\u001b[0m \u001b[0mids\u001b[0m\u001b[0;34m\u001b[0m\u001b[0;34m\u001b[0m\u001b[0m\n\u001b[1;32m     14\u001b[0m \u001b[0;34m\u001b[0m\u001b[0m\n",
            "\u001b[0;32m<ipython-input-20-ba585d2f18cc>\u001b[0m in \u001b[0;36m<listcomp>\u001b[0;34m(.0)\u001b[0m\n\u001b[1;32m     10\u001b[0m             \u001b[0mitem\u001b[0m\u001b[0;34m.\u001b[0m\u001b[0mstrip\u001b[0m\u001b[0;34m(\u001b[0m\u001b[0;34m)\u001b[0m \u001b[0;32mfor\u001b[0m \u001b[0mitem\u001b[0m \u001b[0;32min\u001b[0m \u001b[0mpreprocessed\u001b[0m \u001b[0;32mif\u001b[0m \u001b[0mitem\u001b[0m\u001b[0;34m.\u001b[0m\u001b[0mstrip\u001b[0m\u001b[0;34m(\u001b[0m\u001b[0;34m)\u001b[0m\u001b[0;34m\u001b[0m\u001b[0;34m\u001b[0m\u001b[0m\n\u001b[1;32m     11\u001b[0m         ]\n\u001b[0;32m---> 12\u001b[0;31m         \u001b[0mids\u001b[0m \u001b[0;34m=\u001b[0m \u001b[0;34m[\u001b[0m\u001b[0mself\u001b[0m\u001b[0;34m.\u001b[0m\u001b[0mstr_to_int\u001b[0m\u001b[0;34m[\u001b[0m\u001b[0ms\u001b[0m\u001b[0;34m]\u001b[0m \u001b[0;32mfor\u001b[0m \u001b[0ms\u001b[0m \u001b[0;32min\u001b[0m \u001b[0mpreprocessed\u001b[0m\u001b[0;34m]\u001b[0m\u001b[0;34m\u001b[0m\u001b[0;34m\u001b[0m\u001b[0m\n\u001b[0m\u001b[1;32m     13\u001b[0m         \u001b[0;32mreturn\u001b[0m \u001b[0mids\u001b[0m\u001b[0;34m\u001b[0m\u001b[0;34m\u001b[0m\u001b[0m\n\u001b[1;32m     14\u001b[0m \u001b[0;34m\u001b[0m\u001b[0m\n",
            "\u001b[0;31mKeyError\u001b[0m: 'Hello'"
          ]
        }
      ],
      "source": [
        "tokenizer = SimpleTokenizerV1(vocab)\n",
        "\n",
        "text = \"Hello, do you like tea. Is this-- a test?\"\n",
        "\n",
        "tokenizer.encode(text)"
      ]
    },
    {
      "cell_type": "markdown",
      "id": "dc53ee0c-fe2b-4cd8-a946-5471f7651acf",
      "metadata": {
        "id": "dc53ee0c-fe2b-4cd8-a946-5471f7651acf"
      },
      "source": [
        "- The above produces an error because the word \"Hello\" is not contained in the vocabulary\n",
        "- To deal with such cases, we can add special tokens like `\"<|unk|>\"` to the vocabulary to represent unknown words\n",
        "- Since we are already extending the vocabulary, let's add another token called `\"<|endoftext|>\"` which is used in GPT-2 training to denote the end of a text (and it's also used between concatenated text, like if our training datasets consists of multiple articles, books, etc.)"
      ]
    },
    {
      "cell_type": "code",
      "execution_count": 25,
      "id": "ce9df29c-6c5b-43f1-8c1a-c7f7b79db78f",
      "metadata": {
        "id": "ce9df29c-6c5b-43f1-8c1a-c7f7b79db78f"
      },
      "outputs": [],
      "source": [
        "all_tokens = sorted(list(set(preprocessed)))\n",
        "all_tokens.extend([\"<|endoftext|>\", \"<|unk|>\"])\n",
        "\n",
        "vocab = {token:integer for integer,token in enumerate(all_tokens)}"
      ]
    },
    {
      "cell_type": "code",
      "execution_count": 26,
      "id": "57c3143b-e860-4d3b-a22a-de22b547a6a9",
      "metadata": {
        "colab": {
          "base_uri": "https://localhost:8080/"
        },
        "id": "57c3143b-e860-4d3b-a22a-de22b547a6a9",
        "outputId": "48cf00d0-62bf-4352-872f-69d61ebfdd67"
      },
      "outputs": [
        {
          "output_type": "execute_result",
          "data": {
            "text/plain": [
              "1132"
            ]
          },
          "metadata": {},
          "execution_count": 26
        }
      ],
      "source": [
        "len(vocab.items())"
      ]
    },
    {
      "cell_type": "code",
      "execution_count": 27,
      "id": "50e51bb1-ae05-4aa8-a9ff-455b65ed1959",
      "metadata": {
        "colab": {
          "base_uri": "https://localhost:8080/"
        },
        "id": "50e51bb1-ae05-4aa8-a9ff-455b65ed1959",
        "outputId": "b17d2751-8876-403d-fbcb-b489de23d413"
      },
      "outputs": [
        {
          "output_type": "stream",
          "name": "stdout",
          "text": [
            "('younger', 1127)\n",
            "('your', 1128)\n",
            "('yourself', 1129)\n",
            "('<|endoftext|>', 1130)\n",
            "('<|unk|>', 1131)\n"
          ]
        }
      ],
      "source": [
        "for i, item in enumerate(list(vocab.items())[-5:]):\n",
        "    print(item)"
      ]
    },
    {
      "cell_type": "markdown",
      "id": "a1daa2b0-6e75-412b-ab53-1f6fb7b4d453",
      "metadata": {
        "id": "a1daa2b0-6e75-412b-ab53-1f6fb7b4d453"
      },
      "source": [
        "- We also need to adjust the tokenizer accordingly so that it knows when and how to use the new `<unk>` token"
      ]
    },
    {
      "cell_type": "code",
      "execution_count": 28,
      "id": "948861c5-3f30-4712-a234-725f20d26f68",
      "metadata": {
        "id": "948861c5-3f30-4712-a234-725f20d26f68"
      },
      "outputs": [],
      "source": [
        "class SimpleTokenizerV2:\n",
        "    def __init__(self, vocab):\n",
        "        self.str_to_int = vocab\n",
        "        self.int_to_str = { i:s for s,i in vocab.items()}\n",
        "\n",
        "    def encode(self, text):\n",
        "        preprocessed = re.split(r'([,.:;?_!\"()\\']|--|\\s)', text)\n",
        "        preprocessed = [item.strip() for item in preprocessed if item.strip()]\n",
        "        preprocessed = [\n",
        "            item if item in self.str_to_int\n",
        "            else \"<|unk|>\" for item in preprocessed\n",
        "        ]\n",
        "\n",
        "        ids = [self.str_to_int[s] for s in preprocessed]\n",
        "        return ids\n",
        "\n",
        "    def decode(self, ids):\n",
        "        text = \" \".join([self.int_to_str[i] for i in ids])\n",
        "        # Replace spaces before the specified punctuations\n",
        "        text = re.sub(r'\\s+([,.:;?!\"()\\'])', r'\\1', text)\n",
        "        return text"
      ]
    },
    {
      "cell_type": "markdown",
      "id": "aa728dd1-9d35-4ac7-938f-d411d73083f6",
      "metadata": {
        "id": "aa728dd1-9d35-4ac7-938f-d411d73083f6"
      },
      "source": [
        "Let's try to tokenize text with the modified tokenizer:"
      ]
    },
    {
      "cell_type": "code",
      "execution_count": 29,
      "id": "4133c502-18ac-4412-9f43-01caf4efa3dc",
      "metadata": {
        "colab": {
          "base_uri": "https://localhost:8080/"
        },
        "id": "4133c502-18ac-4412-9f43-01caf4efa3dc",
        "outputId": "1f3acc8d-6400-4e7d-8ef6-c70d6477fb3c"
      },
      "outputs": [
        {
          "output_type": "stream",
          "name": "stdout",
          "text": [
            "Hello, do you like tea? <|endoftext|> In the sunlit terraces of the palace.\n"
          ]
        }
      ],
      "source": [
        "tokenizer = SimpleTokenizerV2(vocab)\n",
        "\n",
        "text1 = \"Hello, do you like tea?\"\n",
        "text2 = \"In the sunlit terraces of the palace.\"\n",
        "\n",
        "text = \" <|endoftext|> \".join((text1, text2))\n",
        "\n",
        "print(text)"
      ]
    },
    {
      "cell_type": "code",
      "execution_count": 30,
      "id": "7ed395fe-dc1b-4ed2-b85b-457cc35aab60",
      "metadata": {
        "colab": {
          "base_uri": "https://localhost:8080/"
        },
        "id": "7ed395fe-dc1b-4ed2-b85b-457cc35aab60",
        "outputId": "0d7d4188-eeaf-4d35-be87-a38fcfbc21ec"
      },
      "outputs": [
        {
          "output_type": "execute_result",
          "data": {
            "text/plain": [
              "[1131, 5, 355, 1126, 628, 975, 10, 1130, 55, 988, 956, 984, 722, 988, 1131, 7]"
            ]
          },
          "metadata": {},
          "execution_count": 30
        }
      ],
      "source": [
        "tokenizer.encode(text)"
      ]
    },
    {
      "cell_type": "code",
      "execution_count": 31,
      "id": "059367f9-7a60-4c0d-8a00-7c4c766d0ebc",
      "metadata": {
        "colab": {
          "base_uri": "https://localhost:8080/",
          "height": 36
        },
        "id": "059367f9-7a60-4c0d-8a00-7c4c766d0ebc",
        "outputId": "ed064fe0-c719-420c-ff97-c2c94219332c"
      },
      "outputs": [
        {
          "output_type": "execute_result",
          "data": {
            "text/plain": [
              "'<|unk|>, do you like tea? <|endoftext|> In the sunlit terraces of the <|unk|>.'"
            ],
            "application/vnd.google.colaboratory.intrinsic+json": {
              "type": "string"
            }
          },
          "metadata": {},
          "execution_count": 31
        }
      ],
      "source": [
        "tokenizer.decode(tokenizer.encode(text))"
      ]
    },
    {
      "cell_type": "markdown",
      "id": "5c4ba34b-170f-4e71-939b-77aabb776f14",
      "metadata": {
        "id": "5c4ba34b-170f-4e71-939b-77aabb776f14"
      },
      "source": [
        "## 2.5 BytePair encoding"
      ]
    },
    {
      "cell_type": "markdown",
      "id": "2309494c-79cf-4a2d-bc28-a94d602f050e",
      "metadata": {
        "id": "2309494c-79cf-4a2d-bc28-a94d602f050e"
      },
      "source": [
        "- GPT-2 used BytePair encoding (BPE) as its tokenizer\n",
        "- it allows the model to break down words that aren't in its predefined vocabulary into smaller subword units or even individual characters, enabling it to handle out-of-vocabulary words\n",
        "- For instance, if GPT-2's vocabulary doesn't have the word \"unfamiliarword,\" it might tokenize it as [\"unfam\", \"iliar\", \"word\"] or some other subword breakdown, depending on its trained BPE merges\n",
        "- The original BPE tokenizer can be found here: [https://github.com/openai/gpt-2/blob/master/src/encoder.py](https://github.com/openai/gpt-2/blob/master/src/encoder.py)\n",
        "- In this chapter, we are using the BPE tokenizer from OpenAI's open-source [tiktoken](https://github.com/openai/tiktoken) library, which implements its core algorithms in Rust to improve computational performance\n",
        "- I created a notebook in the [./bytepair_encoder](../02_bonus_bytepair-encoder) that compares these two implementations side-by-side (tiktoken was about 5x faster on the sample text)"
      ]
    },
    {
      "cell_type": "code",
      "execution_count": null,
      "id": "ede1d41f-934b-4bf4-8184-54394a257a94",
      "metadata": {
        "id": "ede1d41f-934b-4bf4-8184-54394a257a94"
      },
      "outputs": [],
      "source": [
        "# pip install tiktoken"
      ]
    },
    {
      "cell_type": "code",
      "execution_count": 32,
      "id": "48967a77-7d17-42bf-9e92-fc619d63a59e",
      "metadata": {
        "colab": {
          "base_uri": "https://localhost:8080/"
        },
        "id": "48967a77-7d17-42bf-9e92-fc619d63a59e",
        "outputId": "a610c3e8-74cc-4f62-961b-8efd6a57ac9c"
      },
      "outputs": [
        {
          "output_type": "stream",
          "name": "stdout",
          "text": [
            "tiktoken version: 0.9.0\n"
          ]
        }
      ],
      "source": [
        "import importlib\n",
        "import tiktoken\n",
        "\n",
        "print(\"tiktoken version:\", importlib.metadata.version(\"tiktoken\"))"
      ]
    },
    {
      "cell_type": "code",
      "execution_count": 33,
      "id": "6ad3312f-a5f7-4efc-9d7d-8ea09d7b5128",
      "metadata": {
        "id": "6ad3312f-a5f7-4efc-9d7d-8ea09d7b5128"
      },
      "outputs": [],
      "source": [
        "tokenizer = tiktoken.get_encoding(\"gpt2\")"
      ]
    },
    {
      "cell_type": "code",
      "execution_count": 34,
      "id": "5ff2cd85-7cfb-4325-b390-219938589428",
      "metadata": {
        "colab": {
          "base_uri": "https://localhost:8080/"
        },
        "id": "5ff2cd85-7cfb-4325-b390-219938589428",
        "outputId": "ad2857fe-ceff-49d2-a0c4-cc70be73d2b2"
      },
      "outputs": [
        {
          "output_type": "stream",
          "name": "stdout",
          "text": [
            "[15496, 11, 466, 345, 588, 8887, 30, 220, 50256, 554, 262, 4252, 18250, 8812, 2114, 1659, 617, 34680, 27271, 13]\n"
          ]
        }
      ],
      "source": [
        "text = (\n",
        "    \"Hello, do you like tea? <|endoftext|> In the sunlit terraces\"\n",
        "     \"of someunknownPlace.\"\n",
        ")\n",
        "\n",
        "integers = tokenizer.encode(text, allowed_special={\"<|endoftext|>\"})\n",
        "\n",
        "print(integers)"
      ]
    },
    {
      "cell_type": "code",
      "execution_count": 35,
      "id": "d26a48bb-f82e-41a8-a955-a1c9cf9d50ab",
      "metadata": {
        "colab": {
          "base_uri": "https://localhost:8080/"
        },
        "id": "d26a48bb-f82e-41a8-a955-a1c9cf9d50ab",
        "outputId": "f4590f9c-978a-4f65-8f64-e5b01de41bf4"
      },
      "outputs": [
        {
          "output_type": "stream",
          "name": "stdout",
          "text": [
            "Hello, do you like tea? <|endoftext|> In the sunlit terracesof someunknownPlace.\n"
          ]
        }
      ],
      "source": [
        "strings = tokenizer.decode(integers)\n",
        "\n",
        "print(strings)"
      ]
    },
    {
      "cell_type": "markdown",
      "id": "e8c2e7b4-6a22-42aa-8e4d-901f06378d4a",
      "metadata": {
        "id": "e8c2e7b4-6a22-42aa-8e4d-901f06378d4a"
      },
      "source": [
        "- BPE tokenizers break down unknown words into subwords and individual characters:"
      ]
    },
    {
      "cell_type": "markdown",
      "id": "c082d41f-33d7-4827-97d8-993d5a84bb3c",
      "metadata": {
        "id": "c082d41f-33d7-4827-97d8-993d5a84bb3c"
      },
      "source": [
        "<img src=\"https://sebastianraschka.com/images/LLMs-from-scratch-images/ch02_compressed/11.webp\" width=\"300px\">"
      ]
    },
    {
      "cell_type": "markdown",
      "id": "abbd7c0d-70f8-4386-a114-907e96c950b0",
      "metadata": {
        "id": "abbd7c0d-70f8-4386-a114-907e96c950b0"
      },
      "source": [
        "## 2.6 Data sampling with a sliding window"
      ]
    },
    {
      "cell_type": "markdown",
      "id": "509d9826-6384-462e-aa8a-a7c73cd6aad0",
      "metadata": {
        "id": "509d9826-6384-462e-aa8a-a7c73cd6aad0"
      },
      "source": [
        "- We train LLMs to generate one word at a time, so we want to prepare the training data accordingly where the next word in a sequence represents the target to predict:"
      ]
    },
    {
      "cell_type": "markdown",
      "id": "39fb44f4-0c43-4a6a-9c2f-9cf31452354c",
      "metadata": {
        "id": "39fb44f4-0c43-4a6a-9c2f-9cf31452354c"
      },
      "source": [
        "<img src=\"https://sebastianraschka.com/images/LLMs-from-scratch-images/ch02_compressed/12.webp\" width=\"400px\">"
      ]
    },
    {
      "cell_type": "code",
      "execution_count": 36,
      "id": "848d5ade-fd1f-46c3-9e31-1426e315c71b",
      "metadata": {
        "colab": {
          "base_uri": "https://localhost:8080/"
        },
        "id": "848d5ade-fd1f-46c3-9e31-1426e315c71b",
        "outputId": "cd3323cc-bd07-4dc1-d747-fe8e98ccc769"
      },
      "outputs": [
        {
          "output_type": "stream",
          "name": "stdout",
          "text": [
            "5145\n"
          ]
        }
      ],
      "source": [
        "with open(\"the-verdict.txt\", \"r\", encoding=\"utf-8\") as f:\n",
        "    raw_text = f.read()\n",
        "\n",
        "enc_text = tokenizer.encode(raw_text)\n",
        "print(len(enc_text))"
      ]
    },
    {
      "cell_type": "markdown",
      "id": "cebd0657-5543-43ca-8011-2ae6bd0a5810",
      "metadata": {
        "id": "cebd0657-5543-43ca-8011-2ae6bd0a5810"
      },
      "source": [
        "- For each text chunk, we want the inputs and targets\n",
        "- Since we want the model to predict the next word, the targets are the inputs shifted by one position to the right"
      ]
    },
    {
      "cell_type": "code",
      "execution_count": 39,
      "id": "e84424a7-646d-45b6-99e3-80d15fb761f2",
      "metadata": {
        "colab": {
          "base_uri": "https://localhost:8080/"
        },
        "id": "e84424a7-646d-45b6-99e3-80d15fb761f2",
        "outputId": "7f9c668c-f45f-4d7c-a3f1-9f5f231fd8d3"
      },
      "outputs": [
        {
          "output_type": "stream",
          "name": "stdout",
          "text": [
            " and established himself in a villa on the Riviera. (Though I rather thought it would have been Rome or Florence.)\n",
            "\n",
            "\"The height of his glory\"--that was what the women called it. I can hear Mrs. Gideon Thwing--his last Chicago sitter--deploring his unaccountable abdication. \"Of course it's going to send the value of my picture 'way up; but I don't think of that, Mr. Rickham--the loss to Arrt is all I think of.\" The word, on Mrs. Thwing's lips, multiplied its _rs_ as though they were reflected in an endless vista of mirrors. And it was not only the Mrs. Thwings who mourned. Had not the exquisite Hermia Croft, at the last Grafton Gallery show, stopped me before Gisburn's \"Moon-dancers\" to say, with tears in her eyes: \"We shall not look upon its like again\"?\n",
            "\n",
            "Well!--even through the prism of Hermia's tears I felt able to face the fact with equanimity. Poor Jack Gisburn! The women had made him--it was fitting that they should mourn him. Among his own sex fewer regrets were heard, and in his own trade hardly a murmur. Professional jealousy? Perhaps. If it were, the honour of the craft was vindicated by little Claude Nutley, who, in all good faith, brought out in the Burlington a very handsome \"obituary\" on Jack--one of those showy articles stocked with random technicalities that I have heard (I won't say by whom) compared to Gisburn's painting. And so--his resolve being apparently irrevocable--the discussion gradually died out, and, as Mrs. Thwing had predicted, the price of \"Gisburns\" went up.\n",
            "\n",
            "It was not till three years later that, in the course of a few weeks' idling on the Riviera, it suddenly occurred to me to wonder why Gisburn had given up his painting. On reflection, it really was a tempting problem. To accuse his wife would have been too easy--his fair sitters had been denied the solace of saying that Mrs. Gisburn had \"dragged him down.\" For Mrs. Gisburn--as such--had not existed till nearly a year after Jack's resolve had been taken. It might be that he had married her--since he liked his ease--because he didn't want to go on painting; but it would have been hard to prove that he had given up his painting because he had married her.\n",
            "\n",
            "Of course, if she had not dragged him down, she had equally, as Miss Croft contended, failed to \"lift him up\"--she had not led him back to the easel. To put the brush into his hand again--what a vocation for a wife! But Mrs. Gisburn appeared to have disdained it--and I felt it might be interesting to find out why.\n",
            "\n",
            "The desultory life of the Riviera lends itself to such purely academic speculations; and having, on my way to Monte Carlo, caught a glimpse of Jack's balustraded terraces between the pines, I had myself borne thither the next day.\n",
            "\n",
            "I found the couple at tea beneath their palm-trees; and Mrs. Gisburn's welcome was so genial that, in the ensuing weeks, I claimed it frequently. It was not that my hostess was \"interesting\": on that point I could have given Miss Croft the fullest reassurance. It was just because she was _not_ interesting--if I may be pardoned the bull--that I found her so. For Jack, all his life, had been surrounded by interesting women: they had fostered his art, it had been reared in the hot-house of their adulation. And it was therefore instructive to note what effect the \"deadening atmosphere of mediocrity\" (I quote Miss Croft) was having on him.\n",
            "\n",
            "I have mentioned that Mrs. Gisburn was rich; and it was immediately perceptible that her husband was extracting from this circumstance a delicate but substantial satisfaction. It is, as a rule, the people who scorn money who get most out of it; and Jack's elegant disdain of his wife's big balance enabled him, with an appearance of perfect good-breeding, to transmute it into objects of art and luxury. To the latter, I must add, he remained relatively indifferent; but he was buying Renaissance bronzes and eighteenth-century pictures with a discrimination that bespoke the amplest resources.\n",
            "\n",
            "\"Money's only excuse is to put beauty into circulation,\" was one of the axioms he laid down across the Sevres and silver of an exquisitely appointed luncheon-table, when, on a later day, I had again run over from Monte Carlo; and Mrs. Gisburn, beaming on him, added for my enlightenment: \"Jack is so morbidly sensitive to every form of beauty.\"\n",
            "\n",
            "Poor Jack! It had always been his fate to have women say such things of him: the fact should be set down in extenuation. What struck me now was that, for the first time, he resented the tone. I had seen him, so often, basking under similar tributes--was it the conjugal note that robbed them of their savour? No--for, oddly enough, it became apparent that he was fond of Mrs. Gisburn--fond enough not to see her absurdity. It was his own absurdity he seemed to be wincing under--his own attitude as an object for garlands and incense.\n",
            "\n",
            "\"My dear, since I've chucked painting people don't say that stuff about me--they say it about Victor Grindle,\" was his only protest, as he rose from the table and strolled out onto the sunlit terrace.\n",
            "\n",
            "I glanced after him, struck by his last word. Victor Grindle was, in fact, becoming the man of the moment--as Jack himself, one might put it, had been the man of the hour. The younger artist was said to have formed himself at my friend's feet, and I wondered if a tinge of jealousy underlay the latter's mysterious abdication. But no--for it was not till after that event that the _rose Dubarry_ drawing-rooms had begun to display their \"Grindles.\"\n",
            "\n",
            "I turned to Mrs. Gisburn, who had lingered to give a lump of sugar to her spaniel in the dining-room.\n",
            "\n",
            "\"Why _has_ he chucked painting?\" I asked abruptly.\n",
            "\n",
            "She raised her eyebrows with a hint of good-humoured surprise.\n",
            "\n",
            "\"Oh, he doesn't _have_ to now, you know; and I want him to enjoy himself,\" she said quite simply.\n",
            "\n",
            "I looked about the spacious white-panelled room, with its _famille-verte_ vases repeating the tones of the pale damask curtains, and its eighteenth-century pastels in delicate faded frames.\n",
            "\n",
            "\"Has he chucked his pictures too? I haven't seen a single one in the house.\"\n",
            "\n",
            "A slight shade of constraint crossed Mrs. Gisburn's open countenance. \"It's his ridiculous modesty, you know. He says they're not fit to have about; he's sent them all away except one--my portrait--and that I have to keep upstairs.\"\n",
            "\n",
            "His ridiculous modesty--Jack's modesty about his pictures? My curiosity was growing like the bean-stalk. I said persuasively to my hostess: \"I must really see your portrait, you know.\"\n",
            "\n",
            "She glanced out almost timorously at the terrace where her husband, lounging in a hooded chair, had lit a cigar and drawn the Russian deerhound's head between his knees.\n",
            "\n",
            "\"Well, come while he's not looking,\" she said, with a laugh that tried to hide her nervousness; and I followed her between the marble Emperors of the hall, and up the wide stairs with terra-cotta nymphs poised among flowers at each landing.\n",
            "\n",
            "In the dimmest corner of her boudoir, amid a profusion of delicate and distinguished objects, hung one of the familiar oval canvases, in the inevitable garlanded frame. The mere outline of the frame called up all Gisburn's past!\n",
            "\n",
            "Mrs. Gisburn drew back the window-curtains, moved aside a _jardiniere_ full of pink azaleas, pushed an arm-chair away, and said: \"If you stand here you can just manage to see it. I had it over the mantel-piece, but he wouldn't let it stay.\"\n",
            "\n",
            "Yes--I could just manage to see it--the first portrait of Jack's I had ever had to strain my eyes over! Usually they had the place of honour--say the central panel in a pale yellow or _rose Dubarry_ drawing-room, or a monumental easel placed so that it took the light through curtains of old Venetian point. The more modest place became the picture better; yet, as my eyes grew accustomed to the half-light, all the characteristic qualities came out--all the hesitations disguised as audacities, the tricks of prestidigitation by which, with such consummate skill, he managed to divert attention from the real business of the picture to some pretty irrelevance of detail. Mrs. Gisburn, presenting a neutral surface to work on--forming, as it were, so inevitably the background of her own picture--had lent herself in an unusual degree to the display of this false virtuosity. The picture was one of Jack's \"strongest,\" as his admirers would have put it--it represented, on his part, a swelling of muscles, a congesting of veins, a balancing, straddling and straining, that reminded one of the circus-clown's ironic efforts to lift a feather. It met, in short, at every point the demand of lovely woman to be painted \"strongly\" because she was tired of being painted \"sweetly\"--and yet not to lose an atom of the sweetness.\n",
            "\n",
            "\"It's the last he painted, you know,\" Mrs. Gisburn said with pardonable pride. \"The last but one,\" she corrected herself--\"but the other doesn't count, because he destroyed it.\"\n",
            "\n",
            "\"Destroyed it?\" I was about to follow up this clue when I heard a footstep and saw Jack himself on the threshold.\n",
            "\n",
            "As he stood there, his hands in the pockets of his velveteen coat, the thin brown waves of hair pushed back from his white forehead, his lean sunburnt cheeks furrowed by a smile that lifted the tips of a self-confident moustache, I felt to what a degree he had the same quality as his pictures--the quality of looking cleverer than he was.\n",
            "\n",
            "His wife glanced at him deprecatingly, but his eyes travelled past her to the portrait.\n",
            "\n",
            "\"Mr. Rickham wanted to see it,\" she began, as if excusing herself. He shrugged his shoulders, still smiling.\n",
            "\n",
            "\"Oh, Rickham found me out long ago,\" he said lightly; then, passing his arm through mine: \"Come and see the rest of the house.\"\n",
            "\n",
            "He showed it to me with a kind of naive suburban pride: the bath-rooms, the speaking-tubes, the dress-closets, the trouser-presses--all the complex simplifications of the millionaire's domestic economy. And whenever my wonder paid the expected tribute he said, throwing out his chest a little: \"Yes, I really don't see how people manage to live without that.\"\n",
            "\n",
            "Well--it was just the end one might have foreseen for him. Only he was, through it all and in spite of it all--as he had been through, and in spite of, his pictures--so handsome, so charming, so disarming, that one longed to cry out: \"Be dissatisfied with your leisure!\" as once one had longed to say: \"Be dissatisfied with your work!\"\n",
            "\n",
            "But, with the cry on my lips, my diagnosis suffered an unexpected check.\n",
            "\n",
            "\"This is my own lair,\" he said, leading me into a dark plain room at the end of the florid vista. It was square and brown and leathery: no \"effects\"; no bric-a-brac, none of the air of posing for reproduction in a picture weekly--above all, no least sign of ever having been used as a studio.\n",
            "\n",
            "The fact brought home to me the absolute finality of Jack's break with his old life.\n",
            "\n",
            "\"Don't you ever dabble with paint any more?\" I asked, still looking about for a trace of such activity.\n",
            "\n",
            "\"Never,\" he said briefly.\n",
            "\n",
            "\"Or water-colour--or etching?\"\n",
            "\n",
            "His confident eyes grew dim, and his cheeks paled a little under their handsome sunburn.\n",
            "\n",
            "\"Never think of it, my dear fellow--any more than if I'd never touched a brush.\"\n",
            "\n",
            "And his tone told me in a flash that he never thought of anything else.\n",
            "\n",
            "I moved away, instinctively embarrassed by my unexpected discovery; and as I turned, my eye fell on a small picture above the mantel-piece--the only object breaking the plain oak panelling of the room.\n",
            "\n",
            "\"Oh, by Jove!\" I said.\n",
            "\n",
            "It was a sketch of a donkey--an old tired donkey, standing in the rain under a wall.\n",
            "\n",
            "\"By Jove--a Stroud!\" I cried.\n",
            "\n",
            "He was silent; but I felt him close behind me, breathing a little quickly.\n",
            "\n",
            "\"What a wonder! Made with a dozen lines--but on everlasting foundations. You lucky chap, where did you get it?\"\n",
            "\n",
            "He answered slowly: \"Mrs. Stroud gave it to me.\"\n",
            "\n",
            "\"Ah--I didn't know you even knew the Strouds. He was such an inflexible hermit.\"\n",
            "\n",
            "\"I didn't--till after. . . . She sent for me to paint him when he was dead.\"\n",
            "\n",
            "\"When he was dead? You?\"\n",
            "\n",
            "I must have let a little too much amazement escape through my surprise, for he answered with a deprecating laugh: \"Yes--she's an awful simpleton, you know, Mrs. Stroud. Her only idea was to have him done by a fashionable painter--ah, poor Stroud! She thought it the surest way of proclaiming his greatness--of forcing it on a purblind public. And at the moment I was _the_ fashionable painter.\"\n",
            "\n",
            "\"Ah, poor Stroud--as you say. Was _that_ his history?\"\n",
            "\n",
            "\"That was his history. She believed in him, gloried in him--or thought she did. But she couldn't bear not to have all the drawing-rooms with her. She couldn't bear the fact that, on varnishing days, one could always get near enough to see his pictures. Poor woman! She's just a fragment groping for other fragments. Stroud is the only whole I ever knew.\"\n",
            "\n",
            "\"You ever knew? But you just said--\"\n",
            "\n",
            "Gisburn had a curious smile in his eyes.\n",
            "\n",
            "\"Oh, I knew him, and he knew me--only it happened after he was dead.\"\n",
            "\n",
            "I dropped my voice instinctively. \"When she sent for you?\"\n",
            "\n",
            "\"Yes--quite insensible to the irony. She wanted him vindicated--and by me!\"\n",
            "\n",
            "He laughed again, and threw back his head to look up at the sketch of the donkey. \"There were days when I couldn't look at that thing--couldn't face it. But I forced myself to put it here; and now it's cured me--cured me. That's the reason why I don't dabble any more, my dear Rickham; or rather Stroud himself is the reason.\"\n",
            "\n",
            "For the first time my idle curiosity about my companion turned into a serious desire to understand him better.\n",
            "\n",
            "\"I wish you'd tell me how it happened,\" I said.\n",
            "\n",
            "He stood looking up at the sketch, and twirling between his fingers a cigarette he had forgotten to light. Suddenly he turned toward me.\n",
            "\n",
            "\"I'd rather like to tell you--because I've always suspected you of loathing my work.\"\n",
            "\n",
            "I made a deprecating gesture, which he negatived with a good-humoured shrug.\n",
            "\n",
            "\"Oh, I didn't care a straw when I believed in myself--and now it's an added tie between us!\"\n",
            "\n",
            "He laughed slightly, without bitterness, and pushed one of the deep arm-chairs forward. \"There: make yourself comfortable--and here are the cigars you like.\"\n",
            "\n",
            "He placed them at my elbow and continued to wander up and down the room, stopping now and then beneath the picture.\n",
            "\n",
            "\"How it happened? I can tell you in five minutes--and it didn't take much longer to happen. . . . I can remember now how surprised and pleased I was when I got Mrs. Stroud's note. Of course, deep down, I had always _felt_ there was no one like him--only I had gone with the stream, echoed the usual platitudes about him, till I half got to think he was a failure, one of the kind that are left behind. By Jove, and he _was_ left behind--because he had come to stay! The rest of us had to let ourselves be swept along or go under, but he was high above the current--on everlasting foundations, as you say.\n",
            "\n",
            "\"Well, I went off to the house in my most egregious mood--rather moved, Lord forgive me, at the pathos of poor Stroud's career of failure being crowned by the glory of my painting him! Of course I meant to do the picture for nothing--I told Mrs. Stroud so when she began to stammer something about her poverty. I remember getting off a prodigious phrase about the honour being _mine_--oh, I was princely, my dear Rickham! I was posing to myself like one of my own sitters.\n",
            "\n",
            "\"Then I was taken up and left alone with him. I had sent all my traps in advance, and I had only to set up the easel and get to work. He had been dead only twenty-four hours, and he died suddenly, of heart disease, so that there had been no preliminary work of destruction--his face was clear and untouched. I had met him once or twice, years before, and thought him insignificant and dingy. Now I saw that he was superb.\n",
            "\n",
            "\"I was glad at first, with a merely aesthetic satisfaction: glad to have my hand on such a 'subject.' Then his strange life-likeness began to affect me queerly--as I blocked the head in I felt as if he were watching me do it. The sensation was followed by the thought: if he _were_ watching me, what would he say to my way of working? My strokes began to go a little wild--I felt nervous and uncertain.\n",
            "\n",
            "\"Once, when I looked up, I seemed to see a smile behind his close grayish beard--as if he had the secret, and were amusing himself by holding it back from me. That exasperated me still more. The secret? Why, I had a secret worth twenty of his! I dashed at the canvas furiously, and tried some of my bravura tricks. But they failed me, they crumbled. I saw that he wasn't watching the showy bits--I couldn't distract his attention; he just kept his eyes on the hard passages between. Those were the ones I had always shirked, or covered up with some lying paint. And how he saw through my lies!\n",
            "\n",
            "\"I looked up again, and caught sight of that sketch of the donkey hanging on the wall near his bed. His wife told me afterward it was the last thing he had done--just a note taken with a shaking hand, when he was down in Devonshire recovering from a previous heart attack. Just a note! But it tells his whole history. There are years of patient scornful persistence in every line. A man who had swum with the current could never have learned that mighty up-stream stroke. . . .\n",
            "\n",
            "\"I turned back to my work, and went on groping and muddling; then I looked at the donkey again. I saw that, when Stroud laid in the first stroke, he knew just what the end would be. He had possessed his subject, absorbed it, recreated it. When had I done that with any of my things? They hadn't been born of me--I had just adopted them. . . .\n",
            "\n",
            "\"Hang it, Rickham, with that face watching me I couldn't do another stroke. The plain truth was, I didn't know where to put it--_I had never known_. Only, with my sitters and my public, a showy splash of colour covered up the fact--I just threw paint into their faces. . . . Well, paint was the one medium those dead eyes could see through--see straight to the tottering foundations underneath. Don't you know how, in talking a foreign language, even fluently, one says half the time not what one wants to but what one can? Well--that was the way I painted; and as he lay there and watched me, the thing they called my 'technique' collapsed like a house of cards. He didn't sneer, you understand, poor Stroud--he just lay there quietly watching, and on his lips, through the gray beard, I seemed to hear the question: 'Are you sure you know where you're coming out?'\n",
            "\n",
            "\"If I could have painted that face, with that question on it, I should have done a great thing. The next greatest thing was to see that I couldn't--and that grace was given me. But, oh, at that minute, Rickham, was there anything on earth I wouldn't have given to have Stroud alive before me, and to hear him say: 'It's not too late--I'll show you how'?\n",
            "\n",
            "\"It _was_ too late--it would have been, even if he'd been alive. I packed up my traps, and went down and told Mrs. Stroud. Of course I didn't tell her _that_--it would have been Greek to her. I simply said I couldn't paint him, that I was too moved. She rather liked the idea--she's so romantic! It was that that made her give me the donkey. But she was terribly upset at not getting the portrait--she did so want him 'done' by some one showy! At first I was afraid she wouldn't let me off--and at my wits' end I suggested Grindle. Yes, it was I who started Grindle: I told Mrs. Stroud he was the 'coming' man, and she told somebody else, and so it got to be true. . . . And he painted Stroud without wincing; and she hung the picture among her husband's things. . . .\"\n",
            "\n",
            "He flung himself down in the arm-chair near mine, laid back his head, and clasping his arms beneath it, looked up at the picture above the chimney-piece.\n",
            "\n",
            "\"I like to fancy that Stroud himself would have given it to me, if he'd been able to say what he thought that day.\"\n",
            "\n",
            "And, in answer to a question I put half-mechanically--\"Begin again?\" he flashed out. \"When the one thing that brings me anywhere near him is that I knew enough to leave off?\"\n",
            "\n",
            "He stood up and laid his hand on my shoulder with a laugh. \"Only the irony of it is that I _am_ still painting--since Grindle's doing it for me! The Strouds stand alone, and happen once--but there's no exterminating our kind of art.\"\n"
          ]
        }
      ],
      "source": [
        "enc_sample = enc_text[50:]\n",
        "print(tokenizer.decode(enc_sample))"
      ]
    },
    {
      "cell_type": "code",
      "execution_count": 40,
      "id": "dfbff852-a92f-48c8-a46d-143a0f109f40",
      "metadata": {
        "colab": {
          "base_uri": "https://localhost:8080/"
        },
        "id": "dfbff852-a92f-48c8-a46d-143a0f109f40",
        "outputId": "41f0ed0a-702b-4abb-9ff0-957eaf1bb076"
      },
      "outputs": [
        {
          "output_type": "stream",
          "name": "stdout",
          "text": [
            "x: [290, 4920, 2241, 287]\n",
            "y:      [4920, 2241, 287, 257]\n"
          ]
        }
      ],
      "source": [
        "context_size = 4\n",
        "\n",
        "x = enc_sample[:context_size]\n",
        "y = enc_sample[1:context_size+1] #sliding window\n",
        "\n",
        "print(f\"x: {x}\")\n",
        "print(f\"y:      {y}\")"
      ]
    },
    {
      "cell_type": "markdown",
      "id": "815014ef-62f7-4476-a6ad-66e20e42b7c3",
      "metadata": {
        "id": "815014ef-62f7-4476-a6ad-66e20e42b7c3"
      },
      "source": [
        "- One by one, the prediction would look like as follows:"
      ]
    },
    {
      "cell_type": "code",
      "execution_count": 42,
      "id": "d97b031e-ed55-409d-95f2-aeb38c6fe366",
      "metadata": {
        "colab": {
          "base_uri": "https://localhost:8080/"
        },
        "id": "d97b031e-ed55-409d-95f2-aeb38c6fe366",
        "outputId": "6f0ed044-6fcc-4903-f098-8e0a3fe14774"
      },
      "outputs": [
        {
          "output_type": "stream",
          "name": "stdout",
          "text": [
            "[290] ----> 4920\n",
            "[290, 4920] ----> 2241\n",
            "[290, 4920, 2241] ----> 287\n",
            "[290, 4920, 2241, 287] ----> 257\n"
          ]
        }
      ],
      "source": [
        "for i in range(1, context_size+1):\n",
        "    context = enc_sample[:i]\n",
        "    desired = enc_sample[i]\n",
        "\n",
        "    print(context, \"---->\", desired)"
      ]
    },
    {
      "cell_type": "code",
      "execution_count": 43,
      "id": "f57bd746-dcbf-4433-8e24-ee213a8c34a1",
      "metadata": {
        "colab": {
          "base_uri": "https://localhost:8080/"
        },
        "id": "f57bd746-dcbf-4433-8e24-ee213a8c34a1",
        "outputId": "8134993e-c832-41a4-eccd-99499e4dffff"
      },
      "outputs": [
        {
          "output_type": "stream",
          "name": "stdout",
          "text": [
            " and ---->  established\n",
            " and established ---->  himself\n",
            " and established himself ---->  in\n",
            " and established himself in ---->  a\n"
          ]
        }
      ],
      "source": [
        "for i in range(1, context_size+1):\n",
        "    context = enc_sample[:i]\n",
        "    desired = enc_sample[i]\n",
        "\n",
        "    print(tokenizer.decode(context), \"---->\", tokenizer.decode([desired]))"
      ]
    },
    {
      "cell_type": "markdown",
      "id": "210d2dd9-fc20-4927-8d3d-1466cf41aae1",
      "metadata": {
        "id": "210d2dd9-fc20-4927-8d3d-1466cf41aae1"
      },
      "source": [
        "- We will take care of the next-word prediction in a later chapter after we covered the attention mechanism\n",
        "- For now, we implement a simple data loader that iterates over the input dataset and returns the inputs and targets shifted by one"
      ]
    },
    {
      "cell_type": "markdown",
      "id": "a1a1b47a-f646-49d1-bc70-fddf2c840796",
      "metadata": {
        "id": "a1a1b47a-f646-49d1-bc70-fddf2c840796"
      },
      "source": [
        "- Install and import PyTorch (see Appendix A for installation tips)"
      ]
    },
    {
      "cell_type": "code",
      "execution_count": 44,
      "id": "e1770134-e7f3-4725-a679-e04c3be48cac",
      "metadata": {
        "colab": {
          "base_uri": "https://localhost:8080/"
        },
        "id": "e1770134-e7f3-4725-a679-e04c3be48cac",
        "outputId": "20ac7d08-d935-40f0-a3a6-f4338fb4c42e"
      },
      "outputs": [
        {
          "output_type": "stream",
          "name": "stdout",
          "text": [
            "PyTorch version: 2.5.1+cu124\n"
          ]
        }
      ],
      "source": [
        "import torch\n",
        "print(\"PyTorch version:\", torch.__version__)"
      ]
    },
    {
      "cell_type": "markdown",
      "id": "0c9a3d50-885b-49bc-b791-9f5cc8bc7b7c",
      "metadata": {
        "id": "0c9a3d50-885b-49bc-b791-9f5cc8bc7b7c"
      },
      "source": [
        "- We use a sliding window approach, changing the position by +1:\n",
        "\n",
        "<img src=\"https://sebastianraschka.com/images/LLMs-from-scratch-images/ch02_compressed/13.webp?123\" width=\"500px\">"
      ]
    },
    {
      "cell_type": "markdown",
      "id": "92ac652d-7b38-4843-9fbd-494cdc8ec12c",
      "metadata": {
        "id": "92ac652d-7b38-4843-9fbd-494cdc8ec12c"
      },
      "source": [
        "- Create dataset and dataloader that extract chunks from the input text dataset"
      ]
    },
    {
      "cell_type": "code",
      "execution_count": 45,
      "id": "74b41073-4c9f-46e2-a1bd-d38e4122b375",
      "metadata": {
        "id": "74b41073-4c9f-46e2-a1bd-d38e4122b375"
      },
      "outputs": [],
      "source": [
        "from torch.utils.data import Dataset, DataLoader\n",
        "\n",
        "\n",
        "class GPTDatasetV1(Dataset):\n",
        "    def __init__(self, txt, tokenizer, max_length, stride):\n",
        "        self.input_ids = []\n",
        "        self.target_ids = []\n",
        "\n",
        "        # Tokenize the entire text\n",
        "        token_ids = tokenizer.encode(txt, allowed_special={\"<|endoftext|>\"})\n",
        "\n",
        "        # Use a sliding window to chunk the book into overlapping sequences of max_length\n",
        "        for i in range(0, len(token_ids) - max_length, stride):\n",
        "            input_chunk = token_ids[i:i + max_length]\n",
        "            target_chunk = token_ids[i + 1: i + max_length + 1]\n",
        "            self.input_ids.append(torch.tensor(input_chunk))\n",
        "            self.target_ids.append(torch.tensor(target_chunk))\n",
        "\n",
        "    def __len__(self):\n",
        "        return len(self.input_ids)\n",
        "\n",
        "    def __getitem__(self, idx):\n",
        "        return self.input_ids[idx], self.target_ids[idx]"
      ]
    },
    {
      "cell_type": "code",
      "execution_count": 46,
      "id": "5eb30ebe-97b3-43c5-9ff1-a97d621b3c4e",
      "metadata": {
        "id": "5eb30ebe-97b3-43c5-9ff1-a97d621b3c4e"
      },
      "outputs": [],
      "source": [
        "def create_dataloader_v1(txt, batch_size=4, max_length=256,\n",
        "                         stride=128, shuffle=True, drop_last=True,\n",
        "                         num_workers=0):\n",
        "\n",
        "    # Initialize the tokenizer\n",
        "    tokenizer = tiktoken.get_encoding(\"gpt2\")\n",
        "\n",
        "    # Create dataset\n",
        "    dataset = GPTDatasetV1(txt, tokenizer, max_length, stride)\n",
        "\n",
        "    # Create dataloader\n",
        "    dataloader = DataLoader(\n",
        "        dataset,\n",
        "        batch_size=batch_size,\n",
        "        shuffle=shuffle,\n",
        "        drop_last=drop_last,\n",
        "        num_workers=num_workers\n",
        "    )\n",
        "\n",
        "    return dataloader"
      ]
    },
    {
      "cell_type": "markdown",
      "id": "42dd68ef-59f7-45ff-ba44-e311c899ddcd",
      "metadata": {
        "id": "42dd68ef-59f7-45ff-ba44-e311c899ddcd"
      },
      "source": [
        "- Let's test the dataloader with a batch size of 1 for an LLM with a context size of 4:"
      ]
    },
    {
      "cell_type": "code",
      "execution_count": 47,
      "id": "df31d96c-6bfd-4564-a956-6192242d7579",
      "metadata": {
        "id": "df31d96c-6bfd-4564-a956-6192242d7579"
      },
      "outputs": [],
      "source": [
        "with open(\"the-verdict.txt\", \"r\", encoding=\"utf-8\") as f:\n",
        "    raw_text = f.read()"
      ]
    },
    {
      "cell_type": "code",
      "execution_count": 48,
      "id": "9226d00c-ad9a-4949-a6e4-9afccfc7214f",
      "metadata": {
        "colab": {
          "base_uri": "https://localhost:8080/"
        },
        "id": "9226d00c-ad9a-4949-a6e4-9afccfc7214f",
        "outputId": "32b543a1-5bed-414a-b6ef-7e1b057e6eca"
      },
      "outputs": [
        {
          "output_type": "stream",
          "name": "stdout",
          "text": [
            "[tensor([[  40,  367, 2885, 1464]]), tensor([[ 367, 2885, 1464, 1807]])]\n"
          ]
        }
      ],
      "source": [
        "dataloader = create_dataloader_v1(\n",
        "    raw_text, batch_size=1, max_length=4, stride=1, shuffle=False\n",
        ")\n",
        "\n",
        "data_iter = iter(dataloader)\n",
        "first_batch = next(data_iter)\n",
        "print(first_batch)"
      ]
    },
    {
      "cell_type": "code",
      "execution_count": 49,
      "id": "10deb4bc-4de1-4d20-921e-4b1c7a0e1a6d",
      "metadata": {
        "colab": {
          "base_uri": "https://localhost:8080/"
        },
        "id": "10deb4bc-4de1-4d20-921e-4b1c7a0e1a6d",
        "outputId": "f0a85aa9-aeb5-42b6-dad5-b30b8063d6e6"
      },
      "outputs": [
        {
          "output_type": "stream",
          "name": "stdout",
          "text": [
            "[tensor([[ 367, 2885, 1464, 1807]]), tensor([[2885, 1464, 1807, 3619]])]\n"
          ]
        }
      ],
      "source": [
        "second_batch = next(data_iter)\n",
        "print(second_batch)"
      ]
    },
    {
      "cell_type": "markdown",
      "id": "b006212f-de45-468d-bdee-5806216d1679",
      "metadata": {
        "id": "b006212f-de45-468d-bdee-5806216d1679"
      },
      "source": [
        "- An example using stride equal to the context length (here: 4) as shown below:"
      ]
    },
    {
      "cell_type": "markdown",
      "id": "9cb467e0-bdcd-4dda-b9b0-a738c5d33ac3",
      "metadata": {
        "id": "9cb467e0-bdcd-4dda-b9b0-a738c5d33ac3"
      },
      "source": [
        "<img src=\"https://sebastianraschka.com/images/LLMs-from-scratch-images/ch02_compressed/14.webp\" width=\"500px\">"
      ]
    },
    {
      "cell_type": "markdown",
      "id": "b1ae6d45-f26e-4b83-9c7b-cff55ffa7d16",
      "metadata": {
        "id": "b1ae6d45-f26e-4b83-9c7b-cff55ffa7d16"
      },
      "source": [
        "- We can also create batched outputs\n",
        "- Note that we increase the stride here so that we don't have overlaps between the batches, since more overlap could lead to increased overfitting"
      ]
    },
    {
      "cell_type": "code",
      "execution_count": null,
      "id": "1916e7a6-f03d-4f09-91a6-d0bdbac5a58c",
      "metadata": {
        "id": "1916e7a6-f03d-4f09-91a6-d0bdbac5a58c",
        "outputId": "1364a124-b6e3-44c5-8672-09352019d125"
      },
      "outputs": [
        {
          "name": "stdout",
          "output_type": "stream",
          "text": [
            "Inputs:\n",
            " tensor([[   40,   367,  2885,  1464],\n",
            "        [ 1807,  3619,   402,   271],\n",
            "        [10899,  2138,   257,  7026],\n",
            "        [15632,   438,  2016,   257],\n",
            "        [  922,  5891,  1576,   438],\n",
            "        [  568,   340,   373,   645],\n",
            "        [ 1049,  5975,   284,   502],\n",
            "        [  284,  3285,   326,    11]])\n",
            "\n",
            "Targets:\n",
            " tensor([[  367,  2885,  1464,  1807],\n",
            "        [ 3619,   402,   271, 10899],\n",
            "        [ 2138,   257,  7026, 15632],\n",
            "        [  438,  2016,   257,   922],\n",
            "        [ 5891,  1576,   438,   568],\n",
            "        [  340,   373,   645,  1049],\n",
            "        [ 5975,   284,   502,   284],\n",
            "        [ 3285,   326,    11,   287]])\n"
          ]
        }
      ],
      "source": [
        "dataloader = create_dataloader_v1(raw_text, batch_size=8, max_length=4, stride=4, shuffle=False)\n",
        "\n",
        "data_iter = iter(dataloader)\n",
        "inputs, targets = next(data_iter)\n",
        "print(\"Inputs:\\n\", inputs)\n",
        "print(\"\\nTargets:\\n\", targets)"
      ]
    },
    {
      "cell_type": "markdown",
      "id": "2cd2fcda-2fda-4aa8-8bc8-de1e496f9db1",
      "metadata": {
        "id": "2cd2fcda-2fda-4aa8-8bc8-de1e496f9db1"
      },
      "source": [
        "## 2.7 Creating token embeddings"
      ]
    },
    {
      "cell_type": "markdown",
      "id": "1a301068-6ab2-44ff-a915-1ba11688274f",
      "metadata": {
        "id": "1a301068-6ab2-44ff-a915-1ba11688274f"
      },
      "source": [
        "- The data is already almost ready for an LLM\n",
        "- But lastly let us embed the tokens in a continuous vector representation using an embedding layer\n",
        "- Usually, these embedding layers are part of the LLM itself and are updated (trained) during model training"
      ]
    },
    {
      "cell_type": "markdown",
      "id": "e85089aa-8671-4e5f-a2b3-ef252004ee4c",
      "metadata": {
        "id": "e85089aa-8671-4e5f-a2b3-ef252004ee4c"
      },
      "source": [
        "<img src=\"https://sebastianraschka.com/images/LLMs-from-scratch-images/ch02_compressed/15.webp\" width=\"400px\">"
      ]
    },
    {
      "cell_type": "markdown",
      "id": "44e014ca-1fc5-4b90-b6fa-c2097bb92c0b",
      "metadata": {
        "id": "44e014ca-1fc5-4b90-b6fa-c2097bb92c0b"
      },
      "source": [
        "- Suppose we have the following four input examples with input ids 2, 3, 5, and 1 (after tokenization):"
      ]
    },
    {
      "cell_type": "code",
      "execution_count": 2,
      "id": "15a6304c-9474-4470-b85d-3991a49fa653",
      "metadata": {
        "colab": {
          "base_uri": "https://localhost:8080/",
          "height": 146
        },
        "id": "15a6304c-9474-4470-b85d-3991a49fa653",
        "outputId": "f03e3e95-fb2f-4418-fc51-7fb26d181a48"
      },
      "outputs": [
        {
          "output_type": "error",
          "ename": "NameError",
          "evalue": "name 'torch' is not defined",
          "traceback": [
            "\u001b[0;31m---------------------------------------------------------------------------\u001b[0m",
            "\u001b[0;31mNameError\u001b[0m                                 Traceback (most recent call last)",
            "\u001b[0;32m<ipython-input-2-4747abfb7d06>\u001b[0m in \u001b[0;36m<cell line: 0>\u001b[0;34m()\u001b[0m\n\u001b[0;32m----> 1\u001b[0;31m \u001b[0minput_ids\u001b[0m \u001b[0;34m=\u001b[0m \u001b[0mtorch\u001b[0m\u001b[0;34m.\u001b[0m\u001b[0mtensor\u001b[0m\u001b[0;34m(\u001b[0m\u001b[0;34m[\u001b[0m\u001b[0;36m2\u001b[0m\u001b[0;34m,\u001b[0m \u001b[0;36m3\u001b[0m\u001b[0;34m,\u001b[0m \u001b[0;36m5\u001b[0m\u001b[0;34m,\u001b[0m \u001b[0;36m1\u001b[0m\u001b[0;34m]\u001b[0m\u001b[0;34m)\u001b[0m\u001b[0;34m\u001b[0m\u001b[0;34m\u001b[0m\u001b[0m\n\u001b[0m",
            "\u001b[0;31mNameError\u001b[0m: name 'torch' is not defined"
          ]
        }
      ],
      "source": [
        "input_ids = torch.tensor([2, 3, 5, 1])"
      ]
    },
    {
      "cell_type": "markdown",
      "id": "14da6344-2c71-4837-858d-dd120005ba05",
      "metadata": {
        "id": "14da6344-2c71-4837-858d-dd120005ba05"
      },
      "source": [
        "- For the sake of simplicity, suppose we have a small vocabulary of only 6 words and we want to create embeddings of size 3:"
      ]
    },
    {
      "cell_type": "code",
      "execution_count": 51,
      "id": "93cb2cee-9aa6-4bb8-8977-c65661d16eda",
      "metadata": {
        "id": "93cb2cee-9aa6-4bb8-8977-c65661d16eda"
      },
      "outputs": [],
      "source": [
        "vocab_size = 6\n",
        "output_dim = 3\n",
        "\n",
        "torch.manual_seed(123)\n",
        "embedding_layer = torch.nn.Embedding(vocab_size, output_dim)"
      ]
    },
    {
      "cell_type": "markdown",
      "id": "4ff241f6-78eb-4e4a-a55f-5b2b6196d5b0",
      "metadata": {
        "id": "4ff241f6-78eb-4e4a-a55f-5b2b6196d5b0"
      },
      "source": [
        "- This would result in a 6x3 weight matrix:"
      ]
    },
    {
      "cell_type": "code",
      "execution_count": 52,
      "id": "a686eb61-e737-4351-8f1c-222913d47468",
      "metadata": {
        "colab": {
          "base_uri": "https://localhost:8080/"
        },
        "id": "a686eb61-e737-4351-8f1c-222913d47468",
        "outputId": "3369bdad-6491-4566-a2e2-f8459624531b"
      },
      "outputs": [
        {
          "output_type": "stream",
          "name": "stdout",
          "text": [
            "Parameter containing:\n",
            "tensor([[ 0.3374, -0.1778, -0.1690],\n",
            "        [ 0.9178,  1.5810,  1.3010],\n",
            "        [ 1.2753, -0.2010, -0.1606],\n",
            "        [-0.4015,  0.9666, -1.1481],\n",
            "        [-1.1589,  0.3255, -0.6315],\n",
            "        [-2.8400, -0.7849, -1.4096]], requires_grad=True)\n"
          ]
        }
      ],
      "source": [
        "print(embedding_layer.weight)"
      ]
    },
    {
      "cell_type": "markdown",
      "id": "26fcf4f5-0801-4eb4-bb90-acce87935ac7",
      "metadata": {
        "id": "26fcf4f5-0801-4eb4-bb90-acce87935ac7"
      },
      "source": [
        "- For those who are familiar with one-hot encoding, the embedding layer approach above is essentially just a more efficient way of implementing one-hot encoding followed by matrix multiplication in a fully-connected layer, which is described in the supplementary code in [./embedding_vs_matmul](../03_bonus_embedding-vs-matmul)\n",
        "- Because the embedding layer is just a more efficient implementation that is equivalent to the one-hot encoding and matrix-multiplication approach it can be seen as a neural network layer that can be optimized via backpropagation"
      ]
    },
    {
      "cell_type": "markdown",
      "id": "4b0d58c3-83c0-4205-aca2-9c48b19fd4a7",
      "metadata": {
        "id": "4b0d58c3-83c0-4205-aca2-9c48b19fd4a7"
      },
      "source": [
        "- To convert a token with id 3 into a 3-dimensional vector, we do the following:"
      ]
    },
    {
      "cell_type": "code",
      "execution_count": 53,
      "id": "e43600ba-f287-4746-8ddf-d0f71a9023ca",
      "metadata": {
        "colab": {
          "base_uri": "https://localhost:8080/"
        },
        "id": "e43600ba-f287-4746-8ddf-d0f71a9023ca",
        "outputId": "4f40fe18-e87b-4f47-bbda-1a6fea53dc4d"
      },
      "outputs": [
        {
          "output_type": "stream",
          "name": "stdout",
          "text": [
            "tensor([[-0.4015,  0.9666, -1.1481]], grad_fn=<EmbeddingBackward0>)\n"
          ]
        }
      ],
      "source": [
        "print(embedding_layer(torch.tensor([3])))"
      ]
    },
    {
      "cell_type": "markdown",
      "id": "a7bbf625-4f36-491d-87b4-3969efb784b0",
      "metadata": {
        "id": "a7bbf625-4f36-491d-87b4-3969efb784b0"
      },
      "source": [
        "- Note that the above is the 4th row in the `embedding_layer` weight matrix\n",
        "- To embed all four `input_ids` values above, we do"
      ]
    },
    {
      "cell_type": "code",
      "execution_count": 54,
      "id": "50280ead-0363-44c8-8c35-bb885d92c8b7",
      "metadata": {
        "colab": {
          "base_uri": "https://localhost:8080/"
        },
        "id": "50280ead-0363-44c8-8c35-bb885d92c8b7",
        "outputId": "ab75299a-5b14-4148-f1e0-abd749672c40"
      },
      "outputs": [
        {
          "output_type": "stream",
          "name": "stdout",
          "text": [
            "tensor([[ 1.2753, -0.2010, -0.1606],\n",
            "        [-0.4015,  0.9666, -1.1481],\n",
            "        [-2.8400, -0.7849, -1.4096],\n",
            "        [ 0.9178,  1.5810,  1.3010]], grad_fn=<EmbeddingBackward0>)\n"
          ]
        }
      ],
      "source": [
        "print(embedding_layer(input_ids))"
      ]
    },
    {
      "cell_type": "markdown",
      "id": "be97ced4-bd13-42b7-866a-4d699a17e155",
      "metadata": {
        "id": "be97ced4-bd13-42b7-866a-4d699a17e155"
      },
      "source": [
        "- An embedding layer is essentially a look-up operation:"
      ]
    },
    {
      "cell_type": "markdown",
      "id": "f33c2741-bf1b-4c60-b7fd-61409d556646",
      "metadata": {
        "id": "f33c2741-bf1b-4c60-b7fd-61409d556646"
      },
      "source": [
        "<img src=\"https://sebastianraschka.com/images/LLMs-from-scratch-images/ch02_compressed/16.webp?123\" width=\"500px\">"
      ]
    },
    {
      "cell_type": "markdown",
      "id": "08218d9f-aa1a-4afb-a105-72ff96a54e73",
      "metadata": {
        "id": "08218d9f-aa1a-4afb-a105-72ff96a54e73"
      },
      "source": [
        "- **You may be interested in the bonus content comparing embedding layers with regular linear layers: [../03_bonus_embedding-vs-matmul](../03_bonus_embedding-vs-matmul)**"
      ]
    },
    {
      "cell_type": "markdown",
      "id": "c393d270-b950-4bc8-99ea-97d74f2ea0f6",
      "metadata": {
        "id": "c393d270-b950-4bc8-99ea-97d74f2ea0f6"
      },
      "source": [
        "## 2.8 Encoding word positions"
      ]
    },
    {
      "cell_type": "markdown",
      "id": "24940068-1099-4698-bdc0-e798515e2902",
      "metadata": {
        "id": "24940068-1099-4698-bdc0-e798515e2902"
      },
      "source": [
        "- Embedding layer convert IDs into identical vector representations regardless of where they are located in the input sequence:"
      ]
    },
    {
      "cell_type": "markdown",
      "id": "9e0b14a2-f3f3-490e-b513-f262dbcf94fa",
      "metadata": {
        "id": "9e0b14a2-f3f3-490e-b513-f262dbcf94fa"
      },
      "source": [
        "<img src=\"https://sebastianraschka.com/images/LLMs-from-scratch-images/ch02_compressed/17.webp\" width=\"400px\">"
      ]
    },
    {
      "cell_type": "markdown",
      "id": "92a7d7fe-38a5-46e6-8db6-b688887b0430",
      "metadata": {
        "id": "92a7d7fe-38a5-46e6-8db6-b688887b0430"
      },
      "source": [
        "- Positional embeddings are combined with the token embedding vector to form the input embeddings for a large language model:"
      ]
    },
    {
      "cell_type": "markdown",
      "id": "48de37db-d54d-45c4-ab3e-88c0783ad2e4",
      "metadata": {
        "id": "48de37db-d54d-45c4-ab3e-88c0783ad2e4"
      },
      "source": [
        "<img src=\"https://sebastianraschka.com/images/LLMs-from-scratch-images/ch02_compressed/18.webp\" width=\"500px\">"
      ]
    },
    {
      "cell_type": "markdown",
      "id": "7f187f87-c1f8-4c2e-8050-350bbb972f55",
      "metadata": {
        "id": "7f187f87-c1f8-4c2e-8050-350bbb972f55"
      },
      "source": [
        "- The BytePair encoder has a vocabulary size of 50,257:\n",
        "- Suppose we want to encode the input tokens into a 256-dimensional vector representation:"
      ]
    },
    {
      "cell_type": "code",
      "execution_count": 55,
      "id": "0b9e344d-03a6-4f2c-b723-67b6a20c5041",
      "metadata": {
        "id": "0b9e344d-03a6-4f2c-b723-67b6a20c5041"
      },
      "outputs": [],
      "source": [
        "vocab_size = 50257\n",
        "output_dim = 256\n",
        "\n",
        "token_embedding_layer = torch.nn.Embedding(vocab_size, output_dim)"
      ]
    },
    {
      "cell_type": "markdown",
      "id": "a2654722-24e4-4b0d-a43c-436a461eb70b",
      "metadata": {
        "id": "a2654722-24e4-4b0d-a43c-436a461eb70b"
      },
      "source": [
        "- If we sample data from the dataloader, we embed the tokens in each batch into a 256-dimensional vector\n",
        "- If we have a batch size of 8 with 4 tokens each, this results in a 8 x 4 x 256 tensor:"
      ]
    },
    {
      "cell_type": "code",
      "execution_count": 56,
      "id": "ad56a263-3d2e-4d91-98bf-d0b68d3c7fc3",
      "metadata": {
        "id": "ad56a263-3d2e-4d91-98bf-d0b68d3c7fc3"
      },
      "outputs": [],
      "source": [
        "max_length = 4\n",
        "dataloader = create_dataloader_v1(\n",
        "    raw_text, batch_size=8, max_length=max_length,\n",
        "    stride=max_length, shuffle=False\n",
        ")\n",
        "data_iter = iter(dataloader)\n",
        "inputs, targets = next(data_iter)"
      ]
    },
    {
      "cell_type": "code",
      "execution_count": 64,
      "id": "84416b60-3707-4370-bcbc-da0b62f2b64d",
      "metadata": {
        "colab": {
          "base_uri": "https://localhost:8080/"
        },
        "id": "84416b60-3707-4370-bcbc-da0b62f2b64d",
        "outputId": "270b09b1-58ac-44a3-c5c3-57d884e639db"
      },
      "outputs": [
        {
          "output_type": "stream",
          "name": "stdout",
          "text": [
            "Token IDs:\n",
            " tensor([[   40,   367,  2885,  1464],\n",
            "        [ 1807,  3619,   402,   271],\n",
            "        [10899,  2138,   257,  7026],\n",
            "        [15632,   438,  2016,   257],\n",
            "        [  922,  5891,  1576,   438],\n",
            "        [  568,   340,   373,   645],\n",
            "        [ 1049,  5975,   284,   502],\n",
            "        [  284,  3285,   326,    11]])\n",
            "\n",
            "Inputs shape:\n",
            " torch.Size([8, 4])\n"
          ]
        }
      ],
      "source": [
        "print(\"Token IDs:\\n\",  inputs)\n",
        "print(\"\\nInputs shape:\\n\", inputs.shape)"
      ]
    },
    {
      "cell_type": "code",
      "execution_count": 66,
      "id": "7766ec38-30d0-4128-8c31-f49f063c43d1",
      "metadata": {
        "colab": {
          "base_uri": "https://localhost:8080/"
        },
        "id": "7766ec38-30d0-4128-8c31-f49f063c43d1",
        "outputId": "d8110efa-5829-4140-c39e-aeddc8e44dc7"
      },
      "outputs": [
        {
          "output_type": "stream",
          "name": "stdout",
          "text": [
            "torch.Size([8, 4, 256])\n",
            "tensor([[[ 0.4913,  1.1239,  1.4588,  ..., -0.3995, -1.8735, -0.1445],\n",
            "         [ 0.4481,  0.2536, -0.2655,  ...,  0.4997, -1.1991, -1.1844],\n",
            "         [-0.2507, -0.0546,  0.6687,  ...,  0.9618,  2.3737, -0.0528],\n",
            "         [ 0.9457,  0.8657,  1.6191,  ..., -0.4544, -0.7460,  0.3483]],\n",
            "\n",
            "        [[ 1.5460,  1.7368, -0.7848,  ..., -0.1004,  0.8584, -0.3421],\n",
            "         [-1.8622, -0.1914, -0.3812,  ...,  1.1220, -0.3496,  0.6091],\n",
            "         [ 1.9847, -0.6483, -0.1415,  ..., -0.3841, -0.9355,  1.4478],\n",
            "         [ 0.9647,  1.2974, -1.6207,  ...,  1.1463,  1.5797,  0.3969]],\n",
            "\n",
            "        [[-0.7713,  0.6572,  0.1663,  ..., -0.8044,  0.0542,  0.7426],\n",
            "         [ 0.8046,  0.5047,  1.2922,  ...,  1.4648,  0.4097,  0.3205],\n",
            "         [ 0.0795, -1.7636,  0.5750,  ...,  2.1823,  1.8231, -0.3635],\n",
            "         [ 0.4267, -0.0647,  0.5686,  ..., -0.5209,  1.3065,  0.8473]],\n",
            "\n",
            "        ...,\n",
            "\n",
            "        [[-1.6156,  0.9610, -2.6437,  ..., -0.9645,  1.0888,  1.6383],\n",
            "         [-0.3985, -0.9235, -1.3163,  ..., -1.1582, -1.1314,  0.9747],\n",
            "         [ 0.6089,  0.5329,  0.1980,  ..., -0.6333, -1.1023,  1.6292],\n",
            "         [ 0.3677, -0.1701, -1.3787,  ...,  0.7048,  0.5028, -0.0573]],\n",
            "\n",
            "        [[-0.1279,  0.6154,  1.7173,  ...,  0.3789, -0.4752,  1.5258],\n",
            "         [ 0.4861, -1.7105,  0.4416,  ...,  0.1475, -1.8394,  1.8755],\n",
            "         [-0.9573,  0.7007,  1.3579,  ...,  1.9378, -1.9052, -1.1816],\n",
            "         [ 0.2002, -0.7605, -1.5170,  ..., -0.0305, -0.3656, -0.1398]],\n",
            "\n",
            "        [[-0.9573,  0.7007,  1.3579,  ...,  1.9378, -1.9052, -1.1816],\n",
            "         [-0.0632, -0.6548, -1.0296,  ..., -0.9538, -0.5026, -0.1128],\n",
            "         [ 0.6032,  0.8983,  2.0722,  ...,  1.5242,  0.2030, -0.3002],\n",
            "         [ 1.1274, -0.1082, -0.2195,  ...,  0.5059, -1.8138, -0.0700]]],\n",
            "       grad_fn=<EmbeddingBackward0>)\n"
          ]
        }
      ],
      "source": [
        "token_embeddings = token_embedding_layer(inputs)\n",
        "print(token_embeddings.shape)\n",
        "\n",
        "# uncomment & execute the following line to see how the embeddings look like\n",
        "print(token_embeddings)"
      ]
    },
    {
      "cell_type": "markdown",
      "id": "fe2ae164-6f19-4e32-b9e5-76950fcf1c9f",
      "metadata": {
        "id": "fe2ae164-6f19-4e32-b9e5-76950fcf1c9f"
      },
      "source": [
        "- GPT-2 uses absolute position embeddings, so we just create another embedding layer:"
      ]
    },
    {
      "cell_type": "code",
      "execution_count": 68,
      "id": "cc048e20-7ac8-417e-81f5-8fe6f9a4fe07",
      "metadata": {
        "colab": {
          "base_uri": "https://localhost:8080/"
        },
        "id": "cc048e20-7ac8-417e-81f5-8fe6f9a4fe07",
        "outputId": "67a7580a-6c3f-47e5-972f-feb2a1d5856d"
      },
      "outputs": [
        {
          "output_type": "stream",
          "name": "stdout",
          "text": [
            "Parameter containing:\n",
            "tensor([[-0.8194,  0.5543, -0.8290,  ...,  0.1325,  0.2115,  0.3610],\n",
            "        [ 0.4193, -0.9461, -0.3407,  ...,  0.7930,  1.7009,  0.5663],\n",
            "        [-0.2362, -1.7187, -1.0489,  ...,  1.1218,  0.2796,  0.9912],\n",
            "        [-0.9549,  0.4699,  0.2580,  ..., -1.3689,  1.6505,  1.3488]],\n",
            "       requires_grad=True)\n"
          ]
        }
      ],
      "source": [
        "context_length = max_length\n",
        "pos_embedding_layer = torch.nn.Embedding(context_length, output_dim)\n",
        "\n",
        "# uncomment & execute the following line to see how the embedding layer weights look like\n",
        "print(pos_embedding_layer.weight)"
      ]
    },
    {
      "cell_type": "markdown",
      "source": [],
      "metadata": {
        "id": "BZleyqFrh86u"
      },
      "id": "BZleyqFrh86u"
    },
    {
      "cell_type": "code",
      "execution_count": 70,
      "id": "c369a1e7-d566-4b53-b398-d6adafb44105",
      "metadata": {
        "colab": {
          "base_uri": "https://localhost:8080/"
        },
        "id": "c369a1e7-d566-4b53-b398-d6adafb44105",
        "outputId": "8e711c55-e774-42db-c56b-c96212114f9c"
      },
      "outputs": [
        {
          "output_type": "stream",
          "name": "stdout",
          "text": [
            "torch.Size([4, 256])\n",
            "tensor([[-0.8194,  0.5543, -0.8290,  ...,  0.1325,  0.2115,  0.3610],\n",
            "        [ 0.4193, -0.9461, -0.3407,  ...,  0.7930,  1.7009,  0.5663],\n",
            "        [-0.2362, -1.7187, -1.0489,  ...,  1.1218,  0.2796,  0.9912],\n",
            "        [-0.9549,  0.4699,  0.2580,  ..., -1.3689,  1.6505,  1.3488]],\n",
            "       grad_fn=<EmbeddingBackward0>)\n"
          ]
        }
      ],
      "source": [
        "pos_embeddings = pos_embedding_layer(torch.arange(max_length))\n",
        "print(pos_embeddings.shape)\n",
        "\n",
        "# uncomment & execute the following line to see how the embeddings look like\n",
        "print(pos_embeddings)"
      ]
    },
    {
      "cell_type": "markdown",
      "id": "870e9d9f-2935-461a-9518-6d1386b976d6",
      "metadata": {
        "id": "870e9d9f-2935-461a-9518-6d1386b976d6"
      },
      "source": [
        "- To create the input embeddings used in an LLM, we simply add the token and the positional embeddings:"
      ]
    },
    {
      "cell_type": "code",
      "execution_count": 72,
      "id": "b22fab89-526e-43c8-9035-5b7018e34288",
      "metadata": {
        "colab": {
          "base_uri": "https://localhost:8080/"
        },
        "id": "b22fab89-526e-43c8-9035-5b7018e34288",
        "outputId": "cb92265b-6e41-458a-ce41-5bc6f04fd3b6"
      },
      "outputs": [
        {
          "output_type": "stream",
          "name": "stdout",
          "text": [
            "torch.Size([8, 4, 256])\n",
            "tensor([[[-0.3281,  1.6782,  0.6298,  ..., -0.2670, -1.6620,  0.2165],\n",
            "         [ 0.8674, -0.6925, -0.6063,  ...,  1.2927,  0.5018, -0.6181],\n",
            "         [-0.4869, -1.7733, -0.3802,  ...,  2.0836,  2.6533,  0.9384],\n",
            "         [-0.0091,  1.3356,  1.8771,  ..., -1.8233,  0.9045,  1.6972]],\n",
            "\n",
            "        [[ 0.7267,  2.2912, -1.6138,  ...,  0.0321,  1.0699,  0.0189],\n",
            "         [-1.4429, -1.1375, -0.7219,  ...,  1.9150,  1.3513,  1.1754],\n",
            "         [ 1.7486, -2.3669, -1.1904,  ...,  0.7377, -0.6559,  2.4390],\n",
            "         [ 0.0099,  1.7672, -1.3627,  ..., -0.2226,  3.2302,  1.7457]],\n",
            "\n",
            "        [[-1.5907,  1.2115, -0.6627,  ..., -0.6719,  0.2657,  1.1036],\n",
            "         [ 1.2239, -0.4414,  0.9515,  ...,  2.2578,  2.1106,  0.8868],\n",
            "         [-0.1567, -3.4823, -0.4740,  ...,  3.3041,  2.1027,  0.6277],\n",
            "         [-0.5282,  0.4051,  0.8265,  ..., -1.8898,  2.9570,  2.1961]],\n",
            "\n",
            "        ...,\n",
            "\n",
            "        [[-2.4349,  1.5153, -3.4727,  ..., -0.8320,  1.3004,  1.9994],\n",
            "         [ 0.0208, -1.8696, -1.6570,  ..., -0.3652,  0.5696,  1.5410],\n",
            "         [ 0.3728, -1.1858, -0.8510,  ...,  0.4885, -0.8227,  2.6204],\n",
            "         [-0.5872,  0.2998, -1.1208,  ..., -0.6641,  2.1533,  1.2915]],\n",
            "\n",
            "        [[-0.9473,  1.1698,  0.8883,  ...,  0.5114, -0.2637,  1.8868],\n",
            "         [ 0.9054, -2.6566,  0.1009,  ...,  0.9405, -0.1385,  2.4418],\n",
            "         [-1.1935, -1.0180,  0.3090,  ...,  3.0596, -1.6256, -0.1904],\n",
            "         [-0.7547, -0.2907, -1.2590,  ..., -1.3994,  1.2849,  1.2090]],\n",
            "\n",
            "        [[-1.7767,  1.2550,  0.5289,  ...,  2.0703, -1.6937, -0.8205],\n",
            "         [ 0.3562, -1.6009, -1.3703,  ..., -0.1608,  1.1983,  0.4535],\n",
            "         [ 0.3671, -0.8203,  1.0232,  ...,  2.6459,  0.4826,  0.6910],\n",
            "         [ 0.1726,  0.3616,  0.0384,  ..., -0.8630, -0.1632,  1.2788]]],\n",
            "       grad_fn=<AddBackward0>)\n"
          ]
        }
      ],
      "source": [
        "input_embeddings = token_embeddings + pos_embeddings\n",
        "print(input_embeddings.shape)\n",
        "\n",
        "# uncomment & execute the following line to see how the embeddings look like\n",
        "print(input_embeddings)"
      ]
    },
    {
      "cell_type": "markdown",
      "id": "1fbda581-6f9b-476f-8ea7-d244e6a4eaec",
      "metadata": {
        "id": "1fbda581-6f9b-476f-8ea7-d244e6a4eaec"
      },
      "source": [
        "- In the initial phase of the input processing workflow, the input text is segmented into separate tokens\n",
        "- Following this segmentation, these tokens are transformed into token IDs based on a predefined vocabulary:"
      ]
    },
    {
      "cell_type": "markdown",
      "id": "d1bb0f7e-460d-44db-b366-096adcd84fff",
      "metadata": {
        "id": "d1bb0f7e-460d-44db-b366-096adcd84fff"
      },
      "source": [
        "<img src=\"https://sebastianraschka.com/images/LLMs-from-scratch-images/ch02_compressed/19.webp\" width=\"400px\">"
      ]
    },
    {
      "cell_type": "markdown",
      "id": "63230f2e-258f-4497-9e2e-8deee4530364",
      "metadata": {
        "id": "63230f2e-258f-4497-9e2e-8deee4530364"
      },
      "source": [
        "# Summary and takeaways"
      ]
    },
    {
      "cell_type": "markdown",
      "id": "8b3293a6-45a5-47cd-aa00-b23e3ca0a73f",
      "metadata": {
        "id": "8b3293a6-45a5-47cd-aa00-b23e3ca0a73f"
      },
      "source": [
        "See the [./dataloader.ipynb](./dataloader.ipynb) code notebook, which is a concise version of the data loader that we implemented in this chapter and will need for training the GPT model in upcoming chapters.\n",
        "\n",
        "See [./exercise-solutions.ipynb](./exercise-solutions.ipynb) for the exercise solutions.\n",
        "\n",
        "See the [Byte Pair Encoding (BPE) Tokenizer From Scratch](../02_bonus_bytepair-encoder/compare-bpe-tiktoken.ipynb) notebook if you are interested in learning how the GPT-2 tokenizer can be implemented and trained from scratch."
      ]
    }
  ],
  "metadata": {
    "kernelspec": {
      "display_name": "Python 3",
      "name": "python3"
    },
    "language_info": {
      "codemirror_mode": {
        "name": "ipython",
        "version": 3
      },
      "file_extension": ".py",
      "mimetype": "text/x-python",
      "name": "python",
      "nbconvert_exporter": "python",
      "pygments_lexer": "ipython3",
      "version": "3.11.4"
    },
    "colab": {
      "provenance": [],
      "gpuType": "T4"
    },
    "accelerator": "GPU"
  },
  "nbformat": 4,
  "nbformat_minor": 5
}